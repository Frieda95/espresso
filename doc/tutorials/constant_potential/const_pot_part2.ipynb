{
 "cells": [
  {
   "cell_type": "markdown",
   "metadata": {},
   "source": [
    "# Basic simulation of electrodes in ESPResSo part II:\n",
    "# Electrolyte capacitor and Poisson--Boltzmann theory"
   ]
  },
  {
   "cell_type": "markdown",
   "metadata": {},
   "source": [
    "In this tutorial we are going to investigate [...] using **ESPResSo**. \n",
    "\n",
    "To work with this tutorial, you should be familiar with the following topics:\n",
    "\n",
    "1. Setting up and running simulations in ESPResSo - creating particles,\n",
    "   incorporating interactions.\n",
    "   If you are unfamiliar with this, you can go through the respective tutorial\n",
    "   in the `lennard_jones` folder.\n",
    "2. Basic knowledge of classical electrostatics:\n",
    "   Dipoles, surface and image charges\n",
    "3. Reduced units, as described in the ESPResSo user guide\n",
    "   https://espressomd.github.io/doc/introduction.html#on-units"
   ]
  },
  {
   "cell_type": "markdown",
   "metadata": {},
   "source": [
    "## Introduction\n",
    "\n",
    "Understanding the electric double layer (EDL) is crucial for the study\n",
    "of a variety of systems, including colloidal suspensions, charged biological\n",
    "macromolecules and membranes. Poisson-Boltzmann (PB) theory based on a mean-field formalism properly describes the behavior of Coulomb fluids composed of monovalent ions at low concentrations in the\n",
    "vicinity of weakly charged interfaces. However, for strongly charged systems, where correlation and finite size effects begin to dominate the system dynamics, the PB theory falls inadequate. Our goal in this module is to demonstrate how coarse grained implicit solvent simualtions can corroborate some of these approximate theories.\n",
    "\n",
    "Here, we look at the ion density profile between two dielectric walls with constant potential applied to them. \n",
    "In this case the inclusion of dielectric inhomogeneities demands a detailed calculation of the image\n",
    "effects that involve the full solution of the Poisson equation on the fly. This is dealt in a computational cost effective way using ELCIC method, to treat the image charge effect in the presence of 2D dielectric bounding\n",
    "interfaces.  \n",
    "\n",
    "[...]"
   ]
  },
  {
   "cell_type": "markdown",
   "metadata": {},
   "source": [
    "## Theoretical Background \n",
    "\n",
    "[...]"
   ]
  },
  {
   "cell_type": "markdown",
   "metadata": {},
   "source": [
    "## 1. System setup \n",
    "\n",
    "First we import all ESPResSo features and external modules"
   ]
  },
  {
   "cell_type": "code",
   "execution_count": null,
   "metadata": {},
   "outputs": [],
   "source": [
    "import espressomd\n",
    "import numpy as np\n",
    "import espressomd.electrostatics\n",
    "import espressomd.electrostatic_extensions\n",
    "from espressomd.interactions import *\n",
    "import espressomd.visualization\n",
    "import espressomd.observables\n",
    "import espressomd.accumulators\n",
    "from espressomd import shapes\n",
    "import matplotlib.pyplot as plt\n",
    "from scipy.special import *\n",
    "from scipy import constants as const\n",
    "from tqdm import tqdm"
   ]
  },
  {
   "cell_type": "markdown",
   "metadata": {},
   "source": [
    "\n",
    "We define system dimensions and some physical parameters related to length, time\n",
    "and energy scales of our system.\n",
    "All physical parameters are defined in reduced units of length ($\\sigma=1$;\n",
    "Particle size), mass ($m=1$; Particle mass), time ($t=0.01 \\tau$) and\n",
    "elementary charge ($e=1$).\n",
    "\n",
    "Another important length scale is the Bjerrum Length, which is the length at\n",
    "which the electrostatic energy between two elementary charges is comparable to\n",
    "the thermal energy $k_\\mathrm{B}T$.\n",
    "It is defined as $l_\\mathrm{B}=\\frac{1}{4\\pi\\epsilon_0\\epsilon_rk_BT}$. \n",
    "In our case if we choose the ion size ($\\sigma$) in simulations equivalent to a\n",
    "typical experimental value for mono-atomar salt, 0.3 nm in real units, then the\n",
    "Bjerrum length of water at room temperature, $\\ell_\\mathrm{B}=0.71 \\,\\mathrm{nm}$ is\n",
    "$\\ell_\\mathrm{B}\\sim 2$ in simulations units."
   ]
  },
  {
   "cell_type": "code",
   "execution_count": null,
   "metadata": {},
   "outputs": [],
   "source": [
    "# Keep lb=2 (water) and LJ units, convert to physical units using ION_SIZE\n",
    "\n",
    "BJERRUM_LENGTH = 0.71        # Electrostatic prefactor passed to P3M ; prefactor=lB KBT/e2                \n",
    "\n",
    "#Lennard-Jones  Parameters\n",
    "LJ_SIGMA = 0.3              # Particle size nanometers, not point-like\n",
    "LJ_EPSILON = 1.0\n",
    "HS_ION_SIZE = 2**(1/6) * LJ_SIGMA\n",
    "\n",
    "CONCENTRATION = 1e-3 # desired concentration 10 mmol/l\n",
    "DISTANCE = 10 # 10 Debye lengths\n",
    "N_IONPAIRS = 500\n",
    "\n",
    "POTENTIAL_DIFF = 5.0\n",
    "\n",
    "# Elementary charge \n",
    "q = np.array([1.0])  \n",
    "types = {\"Cation\": 0, \"Anion\": 1  ,\"Electrodes\": 2}\n",
    "charges = {\"Cation\": q[0], \"Anion\": -q[0]  }"
   ]
  },
  {
   "cell_type": "code",
   "execution_count": null,
   "metadata": {},
   "outputs": [],
   "source": [
    "def get_box_dimension(concentration, distance, n_ionpairs=N_IONPAIRS):\n",
    "    \"\"\" For a given number of particles, determine the lateral area of the box\n",
    "    to match the desired concentration \"\"\"\n",
    "\n",
    "    # concentration is in mol/l, convert to 1/sigma**3\n",
    "    rho = concentration * (const.Avogadro / const.liter) * const.nano**3\n",
    "    debye_length = (4 * np.pi * BJERRUM_LENGTH * rho*2)**(-1./2) # desired Debye length in nm\n",
    "    distance_in_nanometers = distance * debye_length\n",
    "    \n",
    "    box_volume = n_ionpairs / rho\n",
    "    area = box_volume / (distance_in_nanometers - 2*HS_ION_SIZE) # account for finite ion size in density calculation\n",
    "    l_xy = np.sqrt(area)\n",
    "\n",
    "    return rho,l_xy, debye_length\n",
    "    # determine the box size to achieve the desired density\n",
    "    #return (rho * distance**2)**(1.0/3.0)\n",
    "\n",
    "rho, box_l_xy, DEBYE_LENGTH = get_box_dimension(CONCENTRATION,DISTANCE,N_IONPAIRS)\n",
    "box_l_z = DISTANCE * DEBYE_LENGTH"
   ]
  },
  {
   "cell_type": "code",
   "execution_count": null,
   "metadata": {},
   "outputs": [],
   "source": [
    "ELC_GAP = 6*box_l_z\n",
    "system = espressomd.System(box_l=[box_l_xy, box_l_xy, box_l_z+ELC_GAP])\n",
    "system.time_step = 0.01"
   ]
  },
  {
   "cell_type": "markdown",
   "metadata": {},
   "source": [
    "We now set up an electrolyte solution made of monovalent cations (Np) and anions\n",
    "(Np) between two metallic electrodes at constant potential. \n",
    "Firstly, we add two wall constraints at $z=0$ and $z=L_z$ to stop particles from\n",
    "crossing the boundaries.\n",
    "Refer to  [espressomd.constraints.ShapeBasedConstraint]\n",
    "(https://espressomd.github.io/doc/espressomd.html#espressomd.constraints.ShapeBasedConstraint)\n",
    "in the documentation to set up constraints. Then we place all the ion pairs at\n",
    "random positions between the electrodes.  "
   ]
  },
  {
   "cell_type": "code",
   "execution_count": null,
   "metadata": {},
   "outputs": [],
   "source": [
    "# ADDING ELECTRODES\n",
    "wall_offset=0\n",
    "\n",
    "# (BOTTOM WALL) normal pointing in the +z direction, at z=wall_offset \n",
    "floor = espressomd.shapes.Wall(normal=[0, 0, 1], dist=wall_offset)\n",
    "c1 = system.constraints.add(\n",
    "    particle_type=types[\"Electrodes\"], penetrable=False, shape=floor)\n",
    "\n",
    "# (TOP WALL) normal pointing in the -z direction, at z=box_l_z-wall_offset\n",
    "ceil = espressomd.shapes.Wall(normal=[0, 0, -1], dist=-(box_l_z - wall_offset))   \n",
    "c2 = system.constraints.add(\n",
    "    particle_type=types[\"Electrodes\"], penetrable=False, shape=ceil)\n",
    "\n",
    "\n",
    "# ADDING IONPAIRS \n",
    "offset=10 # To stop the particle to cross the wall at integration \n",
    "Init_part_btw_z1=0+offset \n",
    "Init_part_btw_z2=box_l_z-offset\n",
    "ion_pos=np.empty((3),dtype=float)\n",
    "\n",
    "for i in range (N_IONPAIRS):\n",
    "    ion_pos[0] = np.random.random(1) * system.box_l[0]\n",
    "    ion_pos[1] = np.random.random(1) * system.box_l[1]\n",
    "    ion_pos[2] = np.random.random(1) * (Init_part_btw_z2-Init_part_btw_z1) + Init_part_btw_z1\n",
    "    system.part.add(pos=ion_pos, type=types[\"Cation\"]  , q=charges[\"Cation\"])\n",
    "    \n",
    "for i in range (N_IONPAIRS):\n",
    "    ion_pos[0] = np.random.random(1) * system.box_l[0]\n",
    "    ion_pos[1] = np.random.random(1) * system.box_l[1]\n",
    "    ion_pos[2] = np.random.random(1) * (Init_part_btw_z2-Init_part_btw_z1) + Init_part_btw_z1\n",
    "    system.part.add(pos=ion_pos, type=types[\"Anion\"]  , q=charges[\"Anion\"])"
   ]
  },
  {
   "cell_type": "markdown",
   "metadata": {},
   "source": [
    "Now, we add interactions:\n",
    "For excluded volume interactions, we add WCA kind of potential. \n",
    "For the (2D+h) electrostatic with dielectrics we choose the ELCIC with P3M.\n",
    "\n",
    "Refer to the documentation to set up the\n",
    "[WCA interaction](https://espressomd.github.io/doc/espressomd.html#espressomd.interactions.WCAInteraction) \n",
    "under [Non-bonded](https://espressomd.github.io/doc/inter_non-bonded.html)\n",
    "section.\n",
    "\n",
    "Refer the documentation to set up\n",
    "[ELCIC with P3M](https://espressomd.github.io/doc/electrostatics.html#electrostatic-layer-correction-elc)\n",
    "under the [electrostatics](https://espressomd.github.io/doc/electrostatics.html)\n",
    "section. "
   ]
  },
  {
   "cell_type": "code",
   "execution_count": null,
   "metadata": {},
   "outputs": [],
   "source": [
    "#***************************************************************\n",
    "#                   Adding WCA interactions \n",
    "#***************************************************************\n",
    "\n",
    "for  key, val in types.items():\n",
    "    for key1, val1 in types.items():\n",
    "        system.non_bonded_inter[val, val1].wca.set_params(epsilon=LJ_EPSILON, sigma=LJ_SIGMA)\n",
    "\n",
    "#***************************************************************\n",
    "#                 Adding ELC-P3M electrostatic solver   \n",
    "#***************************************************************\n",
    "\n",
    "delta_mid_top = -1.0   #(Fully metallic case both -1)                 \n",
    "delta_mid_bot = -1.0\n",
    "\n",
    "accuracy = 1e-3\n",
    "check_accuracy = 1e-3\n",
    "p3m = espressomd.electrostatics.P3M(prefactor=BJERRUM_LENGTH,\n",
    "                                    accuracy=accuracy, \n",
    "                                    #mesh=[58, 58, 70], \n",
    "                                    #mesh=[128, 128, 64], \n",
    "                                    #cao=6,\n",
    "                                    verbose=True,\n",
    "                                    tune=True,\n",
    "                                    timings=1,\n",
    "                                    )\n",
    "#system.electrostatics.solver = p3m\n",
    "\n",
    "elc = espressomd.electrostatics.ELC(actor=p3m,\n",
    "                                    gap_size=ELC_GAP,\n",
    "                                    const_pot=True,\n",
    "                                    pot_diff=POTENTIAL_DIFF,\n",
    "                                    maxPWerror=check_accuracy,\n",
    "                                    delta_mid_bot=delta_mid_bot,\n",
    "                                    delta_mid_top=delta_mid_top)\n",
    "system.electrostatics.solver = elc"
   ]
  },
  {
   "cell_type": "markdown",
   "metadata": {},
   "source": [
    "## 2. Equilibration"
   ]
  },
  {
   "cell_type": "markdown",
   "metadata": {},
   "source": [
    "Before we can start the simulation, we need to remove the overlap between particles to avoid large forces which would crash the simulation. For this, we use the steepest descent integrator with a relative convergence criterion for forces and energies.\n",
    "\n"
   ]
  },
  {
   "cell_type": "code",
   "execution_count": null,
   "metadata": {},
   "outputs": [],
   "source": [
    "#  Relax the overlaps with steepest descent\n",
    "\n",
    "system.integrator.set_steepest_descent(f_max=10, gamma=50.0,\n",
    "                                       max_displacement=0.02)\n",
    "system.integrator.run(1000)\n",
    "system.integrator.set_vv() # Switch bach to velocity Verlet \n",
    "\n",
    "# Add thermostat \n",
    "thermostat_seed = np.random.randint(np.random.randint(1000000))\n",
    "system.thermostat.set_langevin(kT=1.0, gamma=0.1, seed=thermostat_seed)"
   ]
  },
  {
   "cell_type": "markdown",
   "metadata": {},
   "source": [
    "Convergence after $t\\sim25$ time units, possible to run up to $t=100$ here...\n",
    "This is a total of 10.000 time steps."
   ]
  },
  {
   "cell_type": "code",
   "execution_count": null,
   "metadata": {},
   "outputs": [],
   "source": [
    "# Integration parameters\n",
    "STEPS_PER_SAMPLE = 200\n",
    "N_SAMPLES = 25\n",
    "N_PART = 2* N_IONPAIRS\n",
    "\n",
    "times = np.zeros(N_SAMPLES)\n",
    "e_total = np.zeros_like(times)"
   ]
  },
  {
   "cell_type": "code",
   "execution_count": null,
   "metadata": {},
   "outputs": [],
   "source": [
    "for i in tqdm(range(N_SAMPLES)):\n",
    "    times[i] = system.time\n",
    "    energy = system.analysis.energy()\n",
    "    e_total[i] = energy['total']\n",
    "    system.integrator.run(STEPS_PER_SAMPLE)"
   ]
  },
  {
   "cell_type": "code",
   "execution_count": null,
   "metadata": {},
   "outputs": [],
   "source": [
    "plt.figure(figsize=(10, 6))\n",
    "plt.plot(times, e_total)\n",
    "plt.xlabel('t')\n",
    "plt.ylabel('E')\n",
    "plt.show()"
   ]
  },
  {
   "cell_type": "markdown",
   "metadata": {},
   "source": [
    "# 3. Calculate and analyze ion profile"
   ]
  },
  {
   "cell_type": "code",
   "execution_count": null,
   "metadata": {},
   "outputs": [],
   "source": [
    "#*************************************************************\n",
    "#  PART 2:       SETTING ACCUMULATORS FOR DENSITY PROFILE \n",
    "#**************************************************************\n",
    "# PRODUCTION RUNS\n",
    "\n",
    "N_SAMPLES = 100\n",
    "\n",
    "Ion_id=[]\n",
    "Cations = system.part.select(type=types[\"Cation\"])\n",
    "Cations_id=[]\n",
    "for i in Cations:\n",
    "    Cations_id.append(i.id)\n",
    "    Ion_id.append(i.id)\n",
    "    \n",
    "Anions = system.part.select(type=types[\"Anion\"])\n",
    "Anions_id=[]\n",
    "for i in Anions:\n",
    "    Anions_id.append(i.id)\n",
    "    Ion_id.append(i.id)\n",
    "\n",
    "bin_width = DEBYE_LENGTH/25\n",
    "n_z_bins = int((system.box_l[2] - ELC_GAP) / bin_width)\n",
    "    \n",
    "\n",
    "  \n",
    "# Accumulator 1 : observable::Density_Profile\n",
    "density_profile_cation = espressomd.observables.DensityProfile(ids=Cations_id,\n",
    "                                                       n_x_bins=1,\n",
    "                                                       n_y_bins=1,\n",
    "                                                       n_z_bins=n_z_bins,\n",
    "                                                       min_x=0,\n",
    "                                                       min_y=0,\n",
    "                                                       min_z=0,\n",
    "                                                       max_x=system.box_l[0],\n",
    "                                                       max_y=system.box_l[1],\n",
    "                                                       max_z=system.box_l[2] - ELC_GAP)\n",
    "\n",
    "density_accumulator_cation = espressomd.accumulators.MeanVarianceCalculator(obs=density_profile_cation, delta_N=20)\n",
    "\n",
    "\n",
    "density_profile_anion = espressomd.observables.DensityProfile(ids=Anions_id,\n",
    "                                                       n_x_bins=1,\n",
    "                                                       n_y_bins=1,\n",
    "                                                       n_z_bins=n_z_bins,\n",
    "                                                       min_x=0,\n",
    "                                                       min_y=0,\n",
    "                                                       min_z=0,\n",
    "                                                       max_x=system.box_l[0],\n",
    "                                                       max_y=system.box_l[1],\n",
    "                                                       max_z=system.box_l[2] - ELC_GAP)\n",
    "\n",
    "density_accumulator_anion = espressomd.accumulators.MeanVarianceCalculator(obs=density_profile_anion, delta_N=20)\n",
    "\n",
    "\n",
    "system.auto_update_accumulators.clear()\n",
    "system.auto_update_accumulators.add(density_accumulator_cation)\n",
    "system.auto_update_accumulators.add(density_accumulator_anion)\n",
    "    \n",
    "times=[]\n",
    "e_total=[]\n",
    "for tm in tqdm(range(N_SAMPLES)):\n",
    "    system.integrator.run(STEPS_PER_SAMPLE)\n",
    "    times.append( system.time)\n",
    "    energy = system.analysis.energy()\n",
    "    e_total.append( energy['total'])   "
   ]
  },
  {
   "cell_type": "code",
   "execution_count": null,
   "metadata": {},
   "outputs": [],
   "source": [
    "zs = density_profile_anion.bin_centers()[0, 0, :, 2]\n",
    "cation_profile_mean = density_accumulator_cation.mean()[0, 0, :]\n",
    "anion_profile_mean = density_accumulator_anion.mean()[0, 0, :]"
   ]
  },
  {
   "cell_type": "code",
   "execution_count": null,
   "metadata": {},
   "outputs": [],
   "source": [
    "def gouy_chapman_potential(x, debye_length, phi_0):\n",
    "    kappa = 1./debye_length\n",
    "    return 2*np.log((1 + np.tanh(1./4*(phi_0) * np.exp(-kappa*x))) \\\n",
    "                  / (1 - np.tanh(1./4*(phi_0) * np.exp(-kappa*x))))\n",
    "\n",
    "def gouy_chapman_density(x, c0, debye_length, phi_0):\n",
    "    phi = gouy_chapman_potential(x, debye_length, phi_0)\n",
    "    return c0/2. * np.exp(-phi)"
   ]
  },
  {
   "cell_type": "code",
   "execution_count": null,
   "metadata": {},
   "outputs": [],
   "source": [
    "plt.figure(figsize=(10, 6))\n",
    "plt.plot(zs, cation_profile_mean, color='b', label='cation')\n",
    "plt.plot(zs, anion_profile_mean, color='r', label='anion')\n",
    "plt.plot(zs, cation_profile_mean + anion_profile_mean, color='k', label='total')\n",
    "\n",
    "x = np.linspace(HS_ION_SIZE, box_l_z-HS_ION_SIZE, 100)\n",
    "plt.plot(x, (gouy_chapman_density(x, CONCENTRATION, DEBYE_LENGTH,-POTENTIAL_DIFF/2.) \\\n",
    "         + gouy_chapman_density(box_l_z-HS_ION_SIZE-x, CONCENTRATION, DEBYE_LENGTH,POTENTIAL_DIFF/2.))/2., color='r', ls='--')\n",
    "plt.plot(x, (gouy_chapman_density(box_l_z-HS_ION_SIZE-x, CONCENTRATION, DEBYE_LENGTH,-POTENTIAL_DIFF/2.) \\\n",
    "         + gouy_chapman_density(x, CONCENTRATION, DEBYE_LENGTH,POTENTIAL_DIFF/2.) )/2., color='b', ls='--')\n",
    "plt.plot(x, (gouy_chapman_density(x, CONCENTRATION, DEBYE_LENGTH,-POTENTIAL_DIFF/2.) \\\n",
    "         + gouy_chapman_density(box_l_z-HS_ION_SIZE-x, CONCENTRATION, DEBYE_LENGTH,POTENTIAL_DIFF/2.))/2 \\\n",
    "         + (gouy_chapman_density(box_l_z-HS_ION_SIZE-x, CONCENTRATION, DEBYE_LENGTH,-POTENTIAL_DIFF/2.) \\\n",
    "         + gouy_chapman_density(x, CONCENTRATION, DEBYE_LENGTH,POTENTIAL_DIFF/2.) )/2., color='k', ls='--', lw=2)\n",
    "\n",
    "plt.legend()\n",
    "plt.xlabel(r'$z\\,\\mathrm{[nm]}$')\n",
    "plt.ylabel(r'$\\rho(z)\\,\\mathrm{[mol/l]}$')"
   ]
  },
  {
   "cell_type": "markdown",
   "metadata": {},
   "source": [
    "Graham equation test"
   ]
  },
  {
   "cell_type": "code",
   "execution_count": null,
   "metadata": {},
   "outputs": [],
   "source": [
    "#Test sigma with Graham equation\n",
    "sigma_left = np.sum((cation_profile_mean-anion_profile_mean)[:int(len(zs)/2.)]) * (zs[1]-zs[0])\n",
    "sigma_right = np.sum((+cation_profile_mean-anion_profile_mean)[int(len(zs)/2.):]) * (zs[1]-zs[0])\n",
    "sigma_graham = np.sinh(POTENTIAL_DIFF/4.) * np.sqrt(2*rho/(np.pi*BJERRUM_LENGTH))\n",
    "# sigma in e/nm^2\n",
    "sigma_left, sigma_right, sigma_graham\n"
   ]
  },
  {
   "cell_type": "markdown",
   "metadata": {},
   "source": [
    "From here needs to be fixed for units..."
   ]
  },
  {
   "cell_type": "code",
   "execution_count": null,
   "metadata": {},
   "outputs": [],
   "source": [
    "# TODO: fix units\n",
    "f, ax = plt.subplots(figsize=(10, 6))\n",
    "\n",
    "dz = (zs[1]-zs[0])*const.nano\n",
    "chargedensity = (cation_profile_mean-anion_profile_mean)*const.elementary_charge/const.nano**3 \n",
    "E_ind_SI = 1./const.epsilon_0 * np.cumsum(chargedensity*dz)\n",
    "# integration constant: zero field in the center\n",
    "E_ind_SI -= E_ind_SI.min()\n",
    "E_ind = E_ind_SI / (const.elementary_charge / (const.Boltzmann * 300) / const.nano)\n",
    "ax2 = plt.twinx()\n",
    "\n",
    "ax.plot(zs,E_ind_SI)\n",
    "ax2.plot(zs,E_ind)\n",
    "ax.set_xlabel(r'$z\\,\\mathrm{[nm]}$')\n",
    "ax.set_ylabel(r'$E_\\mathrm{ind}\\,\\mathrm{[V/m]}$')\n",
    "ax2.set_ylabel(r'$E_\\mathrm{ind}\\,\\mathrm{[(k_\\mathrm{B}T/e)/nm]}$')"
   ]
  },
  {
   "cell_type": "markdown",
   "metadata": {},
   "source": [
    "In ELC-IC, the applied voltage between the electrodes consists of two\n",
    "contributions,\n",
    "$$ \\Delta \\phi_\\mathrm{applied} = \\Delta \\phi_\\mathrm{ind} + \\phi_\\mathrm{bat},$$\n",
    "where $\\Delta \\phi_\\mathrm{ind}$ denotes the potential drop due to the\n",
    "polarization between the parallel electrodes (that is exactly counterbalanced by\n",
    "the induced image charges).\n",
    "In the constant potential ensemble, we obtain the target potential \n",
    "$\\Delta \\phi_\\mathrm{bat}$ by superposing a homogeneous electric field created by\n",
    "the induced charges with the corresponding battery voltage.\n",
    "The contribution $\\Delta \\phi_\\mathrm{ind}$ is calculated on the fly basically\n",
    "for since the dipole moment $P_z$ is calculated in ELC anyway.\n",
    "Let us explicitely calculate these two contributions (in reduced units):"
   ]
  },
  {
   "cell_type": "code",
   "execution_count": null,
   "metadata": {},
   "outputs": [],
   "source": [
    "# TODO: fix units\n",
    "dz = zs[1]-zs[0]\n",
    "phi_ind = -2*np.sum(E_ind[:int(len(E_ind)/2)]) * dz\n",
    "phi_el  = (4*np.pi*BJERRUM_LENGTH) * box_l_z * sigma_left\n",
    "phi_tot = phi_ind + phi_el\n",
    "print(phi_el, phi_ind, phi_tot)"
   ]
  },
  {
   "cell_type": "markdown",
   "metadata": {},
   "source": [
    "Potential drop at one electrode:"
   ]
  },
  {
   "cell_type": "code",
   "execution_count": null,
   "metadata": {},
   "outputs": [],
   "source": [
    "f, ax = plt.subplots(figsize=(10, 6))\n",
    "phi_ind_z = -2*np.cumsum(E_ind[:int(len(E_ind)/2)]*(zs[1]-zs[0]))\n",
    "phi_el_z = zs[:int(len(zs)/2.)] * sigma_left * const.elementary_charge / const.nano / const.epsilon_0 / (const.elementary_charge / (const.Boltzmann * 300))\n",
    "plt.plot(zs[:],np.hstack([phi_ind_z, -phi_ind_z[::-1]+2*phi_ind_z[-1]]), label=r'$\\phi_\\mathrm{ind}$')\n",
    "plt.plot(zs[:],np.hstack([phi_el_z, -phi_el_z[::-1]+2*phi_el_z[-1]]), label=r'$\\phi_\\mathrm{bat}$')\n",
    "plt.plot(zs[:],np.hstack([phi_el_z, -phi_el_z[::-1]+2*phi_el_z[-1]]) + np.hstack([phi_ind_z, -phi_ind_z[::-1]+2*phi_ind_z[-1]]), label=r'$\\phi_\\mathrm{applied}$')\n",
    "plt.legend()\n",
    "plt.xlabel(r'$z\\,\\mathrm{[nm]}$')\n",
    "plt.ylabel(r'$\\phi\\,[k_\\mathrm{B}T/e]$')"
   ]
  },
  {
   "cell_type": "markdown",
   "metadata": {},
   "source": [
    "## 4. Differential capacitance"
   ]
  },
  {
   "cell_type": "code",
   "execution_count": null,
   "metadata": {},
   "outputs": [],
   "source": [
    "# todo"
   ]
  },
  {
   "cell_type": "markdown",
   "metadata": {},
   "source": [
    "## References\n",
    "\n",
    "<a id='[1]'></a>[1] \n"
   ]
  }
 ],
 "metadata": {
  "kernelspec": {
   "display_name": "Python 3",
   "language": "python",
   "name": "python3"
  },
  "language_info": {
   "codemirror_mode": {
    "name": "ipython",
    "version": 3
   },
   "file_extension": ".py",
   "mimetype": "text/x-python",
   "name": "python",
   "nbconvert_exporter": "python",
   "pygments_lexer": "ipython3",
   "version": "3.11.3"
  },
  "orig_nbformat": 4
 },
 "nbformat": 4,
 "nbformat_minor": 2
}
