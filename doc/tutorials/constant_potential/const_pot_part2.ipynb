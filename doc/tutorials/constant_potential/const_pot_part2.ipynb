{
 "cells": [
  {
   "cell_type": "markdown",
   "metadata": {},
   "source": [
    "# Basic simulation of electrodes in ESPResSo part II:\n",
    "# Electrolyte capacitor and Poisson--Boltzmann theory"
   ]
  },
  {
   "cell_type": "markdown",
   "metadata": {},
   "source": [
    "In this tutorial we are going to investigate [...] using **ESPResSo**. \n",
    "\n",
    "To work with this tutorial, you should be familiar with the following topics:\n",
    "\n",
    "1. Setting up and running simulations in ESPResSo - creating particles,\n",
    "   incorporating interactions.\n",
    "   If you are unfamiliar with this, you can go through the respective tutorial\n",
    "   in the `lennard_jones` folder.\n",
    "2. Basic knowledge of classical electrostatics:\n",
    "   Dipoles, surface and image charges\n",
    "3. Reduced units, as described in the ESPResSo user guide\n",
    "   https://espressomd.github.io/doc/introduction.html#on-units"
   ]
  },
  {
   "cell_type": "markdown",
   "metadata": {},
   "source": [
    "## Introduction\n",
    "\n",
    "Understanding the electric double layer (EDL) is crucial for the study\n",
    "of a variety of systems, including colloidal suspensions, charged biological\n",
    "macromolecules and membranes. Poisson-Boltzmann (PB) theory based on a mean-field formalism properly describes the behavior of Coulomb fluids composed of monovalent ions at low concentrations in the\n",
    "vicinity of weakly charged interfaces. However, for strongly charged systems, where correlation and finite size effects begin to dominate the system dynamics, the PB theory falls inadequate. Our goal in this module is to demonstrate how coarse grained implicit solvent simualtions can corroborate some of these approximate theories.\n",
    "\n",
    "Here, we look at the ion density profile between two dielectric walls with constant potential applied to them. \n",
    "In this case the inclusion of dielectric inhomogeneities demands a detailed calculation of the image\n",
    "effects that involve the full solution of the Poisson equation on the fly. This is dealt in a computational cost effective way using ELCIC method, to treat the image charge effect in the presence of 2D dielectric bounding\n",
    "interfaces.  \n",
    "\n",
    "[...]"
   ]
  },
  {
   "cell_type": "markdown",
   "metadata": {},
   "source": [
    "## Theoretical Background \n",
    "\n",
    "[...]"
   ]
  },
  {
   "cell_type": "markdown",
   "metadata": {},
   "source": [
    "In ELC-IC, the applied voltage between the electrodes consists of two\n",
    "contributions,\n",
    "$$ \\Delta \\phi_\\mathrm{applied} = \\Delta \\phi_\\mathrm{ind} + \\phi_\\mathrm{bat},$$\n",
    "where $\\Delta \\phi_\\mathrm{ind}$ denotes the potential drop due to the\n",
    "polarization between the parallel electrodes (that is exactly counterbalanced by\n",
    "the induced image charges).\n",
    "In the constant potential ensemble, we obtain the target potential \n",
    "$\\Delta \\phi_\\mathrm{bat}$ by superposing a homogeneous electric field created by\n",
    "the induced charges with the corresponding battery voltage.\n",
    "The contribution $\\Delta \\phi_\\mathrm{ind}$ is calculated on the fly basically\n",
    "for since the dipole moment $P_z$ is calculated in ELC anyway.\n",
    "Let us explicitely calculate these two contributions (in reduced units):"
   ]
  },
  {
   "cell_type": "markdown",
   "metadata": {},
   "source": [
    "## 1. System setup \n",
    "\n",
    "First we import all ESPResSo features and external modules"
   ]
  },
  {
   "cell_type": "code",
   "execution_count": null,
   "metadata": {},
   "outputs": [],
   "source": [
    "import espressomd\n",
    "import numpy as np\n",
    "import espressomd.electrostatics\n",
    "import espressomd.electrostatic_extensions\n",
    "from espressomd.interactions import *\n",
    "import espressomd.observables\n",
    "import espressomd.accumulators\n",
    "from espressomd import shapes\n",
    "\n",
    "espressomd.assert_features(['WCA', 'ELECTROSTATICS'])\n",
    "\n",
    "import matplotlib.pyplot as plt\n",
    "from scipy.special import *\n",
    "from scipy import constants as const\n",
    "from tqdm import tqdm\n",
    "from scipy.stats import sem"
   ]
  },
  {
   "cell_type": "markdown",
   "metadata": {},
   "source": [
    "We need to define system dimensions and some physical parameters related to\n",
    "length, time and energy scales of our system.\n",
    "As discussed in previous tutorials, all physical parameters are defined in terms\n",
    "of a length $\\sigma$, mass $m$ and time $t$ and unit of charge $q$.\n",
    "Since we are not explicitly interested in the dynamics of the system, we set the\n",
    "mass to $m=1$ (Particle mass) and time $t=0.01 \\tau$.\n",
    "For convenience, we choose the elementary charge as fundamental unit ($q=1e$)\n",
    "and $\\sigma = 1 \\,\\mathrm{nm}$.\n",
    "\n",
    "With this we can now define the fundamental parameters of our system:"
   ]
  },
  {
   "cell_type": "code",
   "execution_count": null,
   "metadata": {},
   "outputs": [],
   "source": [
    "# water at room temperature\n",
    "EPSILON_R = 78.4             # Relative dielectric constant of the water\n",
    "TEMPERATURE = 300.0          # Temperature in Kelvin\n",
    "BJERRUM_LENGTH = const.elementary_charge**2 / (4*np.pi*const.epsilon_0*EPSILON_R*const.Boltzmann*TEMPERATURE) / const.nano\n",
    "# BERRUM_LENGTH of water at room temperature is 0.71 nm; electrostatic prefactor passed to P3M KBT/e2                \n",
    "\n",
    "#Lennard-Jones  Parameters\n",
    "LJ_SIGMA = 0.3              # Particle size nanometers, not point-like\n",
    "LJ_EPSILON = 1.0\n",
    "HS_ION_SIZE = 2**(1/6) * LJ_SIGMA\n",
    "\n",
    "CONCENTRATION = 1e-2 # desired concentration 10 mmol/l\n",
    "DISTANCE = 10 # 10 Debye lengths\n",
    "N_IONPAIRS = 500\n",
    "\n",
    "POTENTIAL_DIFF = 5.0\n",
    "\n",
    "# Elementary charge \n",
    "q = np.array([1.0])  \n",
    "types = {\"Cation\": 0, \"Anion\": 1  ,\"Electrodes\": 2}\n",
    "charges = {\"Cation\": q[0], \"Anion\": -q[0]  }"
   ]
  },
  {
   "cell_type": "markdown",
   "metadata": {},
   "source": [
    "### 1.1 Setting up the box dimensions and create system\n",
    "\n",
    "We want to make use of the optimal performance of **ESPResSo** in this tutorial,\n",
    "which is roughly at 1000 particles/core.\n",
    "Thus, we fixed above the number of ion pairs to `N_IONPAIRS = 500`.\n",
    "\n",
    "To be able to employ the analytical solution for the single plate also for the\n",
    "double layer capacitor setup, the two electrodes need to be sufficiently far\n",
    "away such that the additivity of the two surface potentials holds. In practice,\n",
    "a separation of $d=10\\lambda_\\mathrm{D}$ is a good choice, represented by \n",
    "`DISTANCE = 10`.\n",
    "\n",
    "Our choice of $c=10\\,\\mathrm{mmol}$ is a compromise between a sufficiently low\n",
    "concentration for the PB theory to hold and not too large distances $d$ such\n",
    "that the equilibration/diffusion of the ions takes too long\n",
    "(`CONCENTRATION = 1e-2`).\n",
    "\n",
    "Note that in order to obtain results that we can interpret easily, we explicitly\n",
    "set a unit system using nanometers as length-scale above.\n",
    "The corresponding ion size $\\sigma$ (`HS_ION_SIZE`) of about 0.33 nm is a\n",
    "typical value for a simple salt; this, however, is in sharp contrast to the\n",
    "mean-field assumption of point-like ions.\n",
    "The latter are not easily studied within Molecular Dynamics simulations due to\n",
    "the required small time steps and are better suited for Monte-Carlo type\n",
    "simulations.\n",
    "We instead focus here on analyzing deviations from PB theory due to the finite\n",
    "ion size.\n",
    "\n",
    "The first task now is to write a function \n",
    "`get_box_dimension(concentration, distance, n_ionpairs=N_IONPAIRS)`\n",
    "that returns the lateral and normal box lengths `box_l_xy` and `box_l_z` (in\n",
    "nanometers) for the given parameters.\n",
    "\n",
    "**Hint:** To account for the finite ion size and the wall interaction it is\n",
    "useful to define the effective separation $d^\\prime = d-2\\sigma$, such that the\n",
    "concentration is $\\rho = N/(A*d^\\prime)$.\n"
   ]
  },
  {
   "cell_type": "markdown",
   "metadata": {},
   "source": [
    "```python\n",
    "def get_box_dimension(concentration, distance, n_ionpairs=N_IONPAIRS):\n",
    "    \"\"\" For a given number of particles, determine the lateral area of the box\n",
    "    to match the desired concentration \"\"\"\n",
    "\n",
    "    # concentration is in mol/l, convert to 1/sigma**3\n",
    "    rho = concentration * (const.Avogadro / const.liter) * const.nano**3\n",
    "    debye_length = (4 * np.pi * BJERRUM_LENGTH * rho*2)**(-1./2) # desired Debye length in nm\n",
    "    l_z = distance * debye_length\n",
    "    \n",
    "    box_volume = n_ionpairs / rho\n",
    "    area = box_volume / (l_z - 2*HS_ION_SIZE) # account for finite ion size in density calculation\n",
    "    l_xy = np.sqrt(area)\n",
    "\n",
    "    return l_xy, l_z\n",
    "```"
   ]
  },
  {
   "cell_type": "code",
   "execution_count": null,
   "metadata": {},
   "outputs": [],
   "source": []
  },
  {
   "cell_type": "code",
   "execution_count": null,
   "metadata": {},
   "outputs": [],
   "source": [
    "box_l_xy, box_l_z = get_box_dimension(CONCENTRATION,DISTANCE,N_IONPAIRS)\n",
    "\n",
    "# useful quantities for the following calculations\n",
    "DEBYE_LENGTH = box_l_z / DISTANCE # in units of nm\n",
    "rho = N_IONPAIRS / (box_l_xy*box_l_xy*box_l_z) # in units of 1/nm^3"
   ]
  },
  {
   "cell_type": "markdown",
   "metadata": {},
   "source": [
    "We now can create the **ESPResSo** system.\n",
    "\n",
    "Note that for ELC to work properly, we need to add a gap of `ELC_GAP` in the\n",
    "non-periodic direction.\n",
    "The precise value highly affects the performance due to the tuning of the P3M\n",
    "electrostatic solver.\n",
    "For $d=10\\lambda$ `ELC_GAP = 6*box_l_z` is a good value.\n",
    "\n",
    "We also set the time-step $dt = 0.01 \\tau$, which is limited by the choice of\n",
    "$\\sigma$ and $\\tau$ in the repulsive WCA interaction."
   ]
  },
  {
   "cell_type": "code",
   "execution_count": null,
   "metadata": {},
   "outputs": [],
   "source": [
    "ELC_GAP = 6*box_l_z\n",
    "system = espressomd.System(box_l=[box_l_xy, box_l_xy, box_l_z+ELC_GAP])\n",
    "system.time_step = 0.01"
   ]
  },
  {
   "cell_type": "markdown",
   "metadata": {},
   "source": [
    "### 1.2 Set up the double-layer capacitor\n",
    "\n",
    "We now set up an electrolyte solution made of monovalent cations and anions\n",
    "between two metallic electrodes at constant potential. \n",
    "\n",
    "#### 1.2.1 Electrode walls \n",
    "\n",
    "First, we add two wall constraints at $z=0$ and $z=L_z$ to stop particles from\n",
    "crossing the boundaries and model the electrodes.\n",
    "\n",
    "Refer to \n",
    "[espressomd.constraints.ShapeBasedConstraint](https://espressomd.github.io/doc/espressomd.html#espressomd.constraints.ShapeBasedConstraint)\n",
    "and its\n",
    "[wall constraint](https://espressomd.github.io/doc/constraints.html?highlight=constraint#wall)\n",
    "in the documentation to set up constraints and the `types` dictionary for the\n",
    "particle type."
   ]
  },
  {
   "cell_type": "markdown",
   "metadata": {},
   "source": [
    "```python\n",
    "# Bottom wall, normal pointing in the +z direction \n",
    "floor = espressomd.shapes.Wall(normal=[0, 0, 1])\n",
    "c1 = system.constraints.add(\n",
    "    particle_type=types[\"Electrodes\"], penetrable=False, shape=floor)\n",
    "\n",
    "# Top wall, normal pointing in the -z direction\n",
    "ceil = espressomd.shapes.Wall(normal=[0, 0, -1],\n",
    "                              dist=-box_l_z)   \n",
    "c2 = system.constraints.add(\n",
    "    particle_type=types[\"Electrodes\"], penetrable=False, shape=ceil)\n",
    "```"
   ]
  },
  {
   "cell_type": "code",
   "execution_count": null,
   "metadata": {},
   "outputs": [],
   "source": []
  },
  {
   "cell_type": "markdown",
   "metadata": {},
   "source": [
    "### 1.2.2 Add particles for the ions\n",
    "\n",
    "Now, place the ion pairs at random positions between the electrodes.\n",
    "\n",
    "Note, that unfavorable overlap can be avoided by placing the particles in the\n",
    "interval $[\\sigma, d-\\sigma]$ in the $z$-direction only."
   ]
  },
  {
   "cell_type": "markdown",
   "metadata": {},
   "source": [
    "``` python\n",
    "offset=HS_ION_SIZE # avoid unfavorable overlap at close to the walls\n",
    "Init_part_btw_z1=0+offset \n",
    "Init_part_btw_z2=box_l_z-offset\n",
    "ion_pos=np.empty((3),dtype=float)\n",
    "\n",
    "for i in range (N_IONPAIRS):\n",
    "    ion_pos[0] = np.random.random(1) * system.box_l[0]\n",
    "    ion_pos[1] = np.random.random(1) * system.box_l[1]\n",
    "    ion_pos[2] = np.random.random(1) * (Init_part_btw_z2-Init_part_btw_z1) + Init_part_btw_z1\n",
    "    system.part.add(pos=ion_pos, type=types[\"Cation\"]  , q=charges[\"Cation\"])\n",
    "    \n",
    "for i in range (N_IONPAIRS):\n",
    "    ion_pos[0] = np.random.random(1) * system.box_l[0]\n",
    "    ion_pos[1] = np.random.random(1) * system.box_l[1]\n",
    "    ion_pos[2] = np.random.random(1) * (Init_part_btw_z2-Init_part_btw_z1) + Init_part_btw_z1\n",
    "    system.part.add(pos=ion_pos, type=types[\"Anion\"]  , q=charges[\"Anion\"])\n",
    "```"
   ]
  },
  {
   "cell_type": "code",
   "execution_count": null,
   "metadata": {},
   "outputs": [],
   "source": []
  },
  {
   "cell_type": "markdown",
   "metadata": {},
   "source": [
    "### 1.2.3 Add interactions:\n",
    "For excluded volume interactions, we add a WCA potential. \n",
    "\n",
    "Refer to the documentation to set up the\n",
    "[WCA interaction](https://espressomd.github.io/doc/espressomd.html#espressomd.interactions.WCAInteraction) \n",
    "under [Non-bonded](https://espressomd.github.io/doc/inter_non-bonded.html)\n",
    "section.\n",
    "\n"
   ]
  },
  {
   "cell_type": "markdown",
   "metadata": {},
   "source": [
    "``` python\n",
    "for  key, val in types.items():\n",
    "    for key1, val1 in types.items():\n",
    "        system.non_bonded_inter[val, val1].wca.set_params(epsilon=LJ_EPSILON, sigma=LJ_SIGMA)\n",
    "```"
   ]
  },
  {
   "cell_type": "code",
   "execution_count": null,
   "metadata": {},
   "outputs": [],
   "source": []
  },
  {
   "cell_type": "markdown",
   "metadata": {},
   "source": [
    "For the (2D+h) electrostatic with dielectrics we choose the ELC-IC with P3M.\n",
    "\n",
    "Refer the documentation to set up\n",
    "[ELCIC with P3M](https://espressomd.github.io/doc/electrostatics.html#electrostatic-layer-correction-elc)\n",
    "under the [electrostatics](https://espressomd.github.io/doc/electrostatics.html)\n",
    "section. \n",
    "\n",
    "As later we will study different potential drops between the electrodes, write a\n",
    "function that sets up the electrostatic solver for a given value\n",
    "`POTENTIAL_DIFF.`\n",
    "This function will take care of tuning the P3M and ELC parameters.\n",
    "For our purposes, an accuracy of $10^{-3}$ is sufficient.\n",
    "\n",
    "The function should have a signature\n",
    "`setup_electrostatic_solver(potential_diff)` and return the ELC instance."
   ]
  },
  {
   "cell_type": "markdown",
   "metadata": {},
   "source": [
    "``` python\n",
    "def setup_electrostatic_solver(potential_diff):\n",
    "\n",
    "    delta_mid_top = -1.0   #(Fully metallic case both -1)                 \n",
    "    delta_mid_bot = -1.0\n",
    "\n",
    "    accuracy = 1e-3\n",
    "    check_accuracy = 1e-3\n",
    "    p3m = espressomd.electrostatics.P3M(prefactor=BJERRUM_LENGTH,\n",
    "                                        accuracy=accuracy, \n",
    "                                        tune=True,\n",
    "                                        )\n",
    "    \n",
    "    elc = espressomd.electrostatics.ELC(actor=p3m,\n",
    "                                        gap_size=ELC_GAP,\n",
    "                                        const_pot=True,\n",
    "                                        pot_diff=potential_diff,\n",
    "                                        maxPWerror=check_accuracy,\n",
    "                                        delta_mid_bot=delta_mid_bot,\n",
    "                                        delta_mid_top=delta_mid_top)\n",
    "    \n",
    "    return elc\n",
    "```"
   ]
  },
  {
   "cell_type": "code",
   "execution_count": null,
   "metadata": {},
   "outputs": [],
   "source": []
  },
  {
   "cell_type": "markdown",
   "metadata": {},
   "source": [
    "Now add the solver to the system:"
   ]
  },
  {
   "cell_type": "code",
   "execution_count": null,
   "metadata": {},
   "outputs": [],
   "source": [
    "system.electrostatics.solver = setup_electrostatic_solver(POTENTIAL_DIFF)"
   ]
  },
  {
   "cell_type": "markdown",
   "metadata": {},
   "source": [
    "## 2. Equilibration\n",
    "\n",
    "### 2.1 Steepest descent\n",
    "\n",
    "Before we can start the simulation, we need to remove the overlap between\n",
    "particles to avoid large forces which would crash the simulation.\n",
    "\n",
    "For this, we use the steepest descent integrator with a relative convergence\n",
    "criterion for forces and energies.\n",
    "\n",
    "After steepest descent, we switch to a Velocity Verlet integrator and set up a\n",
    "Langevin thermostat.\n",
    "Note, that we only analyze static properties, thus the damping and temperature\n",
    "chosen here only determine the relaxation speed towards the equilibrium\n",
    "distribution."
   ]
  },
  {
   "cell_type": "code",
   "execution_count": null,
   "metadata": {},
   "outputs": [],
   "source": [
    "#  Relax the overlaps with steepest descent\n",
    "\n",
    "system.integrator.set_steepest_descent(f_max=10, gamma=50.0,\n",
    "                                       max_displacement=0.02)\n",
    "system.integrator.run(1000)\n",
    "system.integrator.set_vv() # Switch bach to Velocity Verlet \n",
    "\n",
    "# Add thermostat \n",
    "thermostat_seed = np.random.randint(np.random.randint(1000000))\n",
    "system.thermostat.set_langevin(kT=1.0, gamma=0.1, seed=thermostat_seed)"
   ]
  },
  {
   "cell_type": "markdown",
   "metadata": {},
   "source": [
    "## Equilibrate the ion distribution\n",
    "\n",
    "Convergence after $t\\sim25$ time units, possible to run up to $t=100$ here...\n",
    "This is a total of 10.000 time steps (~1 minute)."
   ]
  },
  {
   "cell_type": "code",
   "execution_count": null,
   "metadata": {},
   "outputs": [],
   "source": [
    "# Equlibration parameters\n",
    "STEPS_PER_SAMPLE = 200\n",
    "N_SAMPLES = 50\n",
    "N_PART = 2* N_IONPAIRS\n",
    "\n",
    "times = np.zeros(N_SAMPLES)\n",
    "e_total = np.zeros_like(times)\n",
    "e_kin = np.zeros_like(times)\n",
    "\n",
    "for i in tqdm(range(N_SAMPLES)):\n",
    "    times[i] = system.time\n",
    "    energy = system.analysis.energy()\n",
    "    e_total[i] = energy['total']\n",
    "    e_kin[i] = energy['kinetic']\n",
    "    system.integrator.run(STEPS_PER_SAMPLE)"
   ]
  },
  {
   "cell_type": "code",
   "execution_count": null,
   "metadata": {},
   "outputs": [],
   "source": [
    "# Plot the convergence of the total energy\n",
    "plt.figure(figsize=(10, 6))\n",
    "plt.plot(times, e_total, label='total')\n",
    "plt.plot(times, e_kin, label='kinetic')\n",
    "plt.xlabel('t')\n",
    "plt.ylabel('E')\n",
    "plt.legend()\n",
    "plt.show()"
   ]
  },
  {
   "cell_type": "markdown",
   "metadata": {},
   "source": [
    "## 3. Calculate and analyze ion profile\n",
    "\n",
    "### 3.1 Set up the density accumulators\n",
    "\n",
    "We now need to set up an \n",
    "[espressomd.observables.DensityProfile](https://espressomd.github.io/doc/espressomd.html#espressomd.observables.DensityProfile)\n",
    "observable to calculate the anion and cation density profiles.\n",
    "\n",
    "The time average is obtained through a\n",
    "[espressomd.accumulators.MeanVarianceCalculator](espressomd.accumulators.MeanVarianceCalculator).\n",
    "\n",
    "Write a function `setup_densityprofile_accumulators(bin_width)` that returns the\n",
    "`bin_centers` and the accumulators for both ion species in the $z$-range $[0,d]$.\n",
    "Since we are not estimating errors in this tutorial, the choice of `delta_N` is\n",
    "rather arbitrary and does not affect the results. In practice, a typical value is\n",
    "`delta_N=20`."
   ]
  },
  {
   "cell_type": "markdown",
   "metadata": {},
   "source": [
    "```python\n",
    "def setup_densityprofile_accumulators(bin_width):\n",
    "\n",
    "    Ion_id=[]\n",
    "    Cations = system.part.select(type=types[\"Cation\"])\n",
    "    Cations_id=[]\n",
    "    for i in Cations:\n",
    "        Cations_id.append(i.id)\n",
    "        Ion_id.append(i.id)\n",
    "        \n",
    "    Anions = system.part.select(type=types[\"Anion\"])\n",
    "    Anions_id=[]\n",
    "    for i in Anions:\n",
    "        Anions_id.append(i.id)\n",
    "        Ion_id.append(i.id)\n",
    "    \n",
    "    n_z_bins = int(np.round((system.box_l[2] - ELC_GAP) / bin_width))\n",
    "    \n",
    "    # Accumulator 1 : observable::Density_Profile\n",
    "    density_profile_cation = espressomd.observables.DensityProfile(ids=Cations_id,\n",
    "                                                           n_x_bins=1,\n",
    "                                                           n_y_bins=1,\n",
    "                                                           n_z_bins=n_z_bins,\n",
    "                                                           min_x=0,\n",
    "                                                           min_y=0,\n",
    "                                                           min_z=0,\n",
    "                                                           max_x=system.box_l[0],\n",
    "                                                           max_y=system.box_l[1],\n",
    "                                                           max_z=system.box_l[2] - ELC_GAP)\n",
    "    \n",
    "    density_accumulator_cation = espressomd.accumulators.MeanVarianceCalculator(obs=density_profile_cation, delta_N=20)\n",
    "    \n",
    "    \n",
    "    density_profile_anion = espressomd.observables.DensityProfile(ids=Anions_id,\n",
    "                                                           n_x_bins=1,\n",
    "                                                           n_y_bins=1,\n",
    "                                                           n_z_bins=n_z_bins,\n",
    "                                                           min_x=0,\n",
    "                                                           min_y=0,\n",
    "                                                           min_z=0,\n",
    "                                                           max_x=system.box_l[0],\n",
    "                                                           max_y=system.box_l[1],\n",
    "                                                           max_z=system.box_l[2] - ELC_GAP)\n",
    "    \n",
    "    density_accumulator_anion = espressomd.accumulators.MeanVarianceCalculator(obs=density_profile_anion, delta_N=20)\n",
    "\n",
    "    zs = density_profile_anion.bin_centers()[0, 0, :, 2]\n",
    "    \n",
    "    return zs, density_accumulator_cation, density_accumulator_anion\n",
    "```"
   ]
  },
  {
   "cell_type": "code",
   "execution_count": null,
   "metadata": {},
   "outputs": [],
   "source": []
  },
  {
   "cell_type": "code",
   "execution_count": null,
   "metadata": {},
   "outputs": [],
   "source": [
    "zs, density_accumulator_cation, density_accumulator_anion = setup_densityprofile_accumulators(bin_width = DEBYE_LENGTH/10.)"
   ]
  },
  {
   "cell_type": "markdown",
   "metadata": {},
   "source": [
    "### 3.2 Run the simulation\n",
    "\n",
    "Now we take some measurement sampling the density profiles."
   ]
  },
  {
   "cell_type": "code",
   "execution_count": null,
   "metadata": {},
   "outputs": [],
   "source": [
    "N_SAMPLES = 25\n",
    "\n",
    "# Add the accumulators\n",
    "system.auto_update_accumulators.clear()\n",
    "system.auto_update_accumulators.add(density_accumulator_cation)\n",
    "system.auto_update_accumulators.add(density_accumulator_anion)\n",
    "    \n",
    "times=[]\n",
    "e_total=[]\n",
    "for tm in tqdm(range(N_SAMPLES)):\n",
    "    system.integrator.run(STEPS_PER_SAMPLE)\n",
    "    times.append( system.time)\n",
    "    energy = system.analysis.energy()\n",
    "    e_total.append( energy['total'])   \n",
    "\n",
    "cation_profile_mean = density_accumulator_cation.mean()[0, 0, :]\n",
    "anion_profile_mean = density_accumulator_anion.mean()[0, 0, :]"
   ]
  },
  {
   "cell_type": "markdown",
   "metadata": {},
   "source": [
    "### Compare to analytical prediction\n",
    "\n",
    "Since we assume pair-wise additivity, the total ion density follows from\n",
    "$$ \\rho (z) = \\rho_+(z) - \\rho_+ (d-z) + \\rho_-(z) - \\rho_-(d-z) .$$"
   ]
  },
  {
   "cell_type": "code",
   "execution_count": null,
   "metadata": {},
   "outputs": [],
   "source": [
    "def gouy_chapman_potential(x, debye_length, phi_0):\n",
    "    kappa = 1./debye_length\n",
    "    return 2*np.log((1 + np.tanh(1./4*(phi_0) * np.exp(-kappa*x))) \\\n",
    "                  / (1 - np.tanh(1./4*(phi_0) * np.exp(-kappa*x))))\n",
    "\n",
    "def gouy_chapman_density(x, c0, debye_length, phi_0):\n",
    "    phi = gouy_chapman_potential(x, debye_length, phi_0)\n",
    "    return c0/2. * np.exp(-phi)"
   ]
  },
  {
   "cell_type": "code",
   "execution_count": null,
   "metadata": {},
   "outputs": [],
   "source": [
    "plt.figure(figsize=(10, 6))\n",
    "plt.plot(zs, cation_profile_mean, color='b', label='cation')\n",
    "plt.plot(zs, anion_profile_mean, color='r', label='anion')\n",
    "plt.plot(zs, cation_profile_mean + anion_profile_mean, color='k', label='total')\n",
    "\n",
    "x = np.linspace(HS_ION_SIZE, box_l_z-HS_ION_SIZE, 100)\n",
    "plt.plot(x, (gouy_chapman_density(x, CONCENTRATION, DEBYE_LENGTH,-POTENTIAL_DIFF/2.) \\\n",
    "         + gouy_chapman_density(box_l_z-HS_ION_SIZE-x, CONCENTRATION, DEBYE_LENGTH,POTENTIAL_DIFF/2.))/2., color='r', ls='--')\n",
    "plt.plot(x, (gouy_chapman_density(box_l_z-HS_ION_SIZE-x, CONCENTRATION, DEBYE_LENGTH,-POTENTIAL_DIFF/2.) \\\n",
    "         + gouy_chapman_density(x, CONCENTRATION, DEBYE_LENGTH,POTENTIAL_DIFF/2.) )/2., color='b', ls='--')\n",
    "plt.plot(x, (gouy_chapman_density(x, CONCENTRATION, DEBYE_LENGTH,-POTENTIAL_DIFF/2.) \\\n",
    "         + gouy_chapman_density(box_l_z-HS_ION_SIZE-x, CONCENTRATION, DEBYE_LENGTH,POTENTIAL_DIFF/2.))/2 \\\n",
    "         + (gouy_chapman_density(box_l_z-HS_ION_SIZE-x, CONCENTRATION, DEBYE_LENGTH,-POTENTIAL_DIFF/2.) \\\n",
    "         + gouy_chapman_density(x, CONCENTRATION, DEBYE_LENGTH,POTENTIAL_DIFF/2.) )/2., color='k', ls='--', lw=2)\n",
    "\n",
    "plt.legend()\n",
    "plt.xlabel(r'$z\\,\\mathrm{[nm]}$')\n",
    "plt.ylabel(r'$\\rho(z)\\,\\mathrm{[mol/l]}$')\n",
    "plt.show()"
   ]
  },
  {
   "cell_type": "markdown",
   "metadata": {},
   "source": [
    "We now check how well the surface charge agrees with Graham equation.\n",
    "To this end we calculate \n",
    "$$\\sigma = \\int_0^{d/2} \\rho(z) \\,\\mathrm{d}z .$$"
   ]
  },
  {
   "cell_type": "code",
   "execution_count": null,
   "metadata": {},
   "outputs": [],
   "source": [
    "#Test sigma with Graham equation\n",
    "sigma_left = np.sum((cation_profile_mean-anion_profile_mean)[:int(len(zs)/2.)]) * (zs[1]-zs[0])\n",
    "sigma_right = np.sum((+cation_profile_mean-anion_profile_mean)[int(len(zs)/2.):]) * (zs[1]-zs[0])\n",
    "\n",
    "def graham_sigma(phi):\n",
    "    return np.sinh(phi/4.) * np.sqrt(2*rho/(np.pi*BJERRUM_LENGTH))\n",
    "sigma_graham = graham_sigma(POTENTIAL_DIFF)\n",
    "\n",
    "# sigma in e/nm^2\n",
    "print('simulation:', sigma_right, 'graham:', sigma_graham)\n"
   ]
  },
  {
   "cell_type": "markdown",
   "metadata": {},
   "source": [
    "The electric field is readily obtained from the integral \n",
    "$$E(z) = \\int_0^{z} \\frac{1}{\\epsilon_0 \\epsilon_r} \\rho(z^\\prime) \\,\\mathrm{d}z^\\prime .$$"
   ]
  },
  {
   "cell_type": "code",
   "execution_count": null,
   "metadata": {},
   "outputs": [],
   "source": [
    "# plot the electric field\n",
    "f, ax = plt.subplots(figsize=(10, 6))\n",
    "\n",
    "dz_SI = (zs[1]-zs[0])*const.nano\n",
    "chargedensity = (cation_profile_mean-anion_profile_mean)*const.elementary_charge/const.nano**3 \n",
    "E_SI = 1/(EPSILON_R*const.epsilon_0)* np.cumsum(chargedensity*dz_SI)\n",
    "# integration constant: zero field in the center\n",
    "E_SI -= E_SI.min()\n",
    "E = E_SI / (const.elementary_charge / (const.Boltzmann * TEMPERATURE) / const.nano)\n",
    "ax2 = plt.twinx()\n",
    "\n",
    "ax.plot(zs,E_SI)\n",
    "ax2.plot(zs,E)\n",
    "ax.set_xlabel(r'$z\\,\\mathrm{[nm]}$')\n",
    "ax.set_ylabel(r'$E_\\mathrm{ind}\\,\\mathrm{[V/m]}$')\n",
    "ax2.set_ylabel(r'$E_\\mathrm{ind}\\,\\mathrm{[(k_\\mathrm{B}T/e)/nm]}$')\n",
    "plt.show()"
   ]
  },
  {
   "cell_type": "markdown",
   "metadata": {},
   "source": [
    "And the electric potential from $\\phi(z) = \\int_0^z -E(z^\\prime)\\,\\mathrm{d}z^\\prime$."
   ]
  },
  {
   "cell_type": "code",
   "execution_count": null,
   "metadata": {},
   "outputs": [],
   "source": [
    "# plot the elecrostatic potential\n",
    "f, ax = plt.subplots(figsize=(10, 6))\n",
    "ax2 = ax.twinx()\n",
    "phi_SI = -np.cumsum(E_SI*dz_SI)\n",
    "phi = phi_SI * (const.elementary_charge / (const.Boltzmann * TEMPERATURE))\n",
    "ax.plot(zs, phi_SI)\n",
    "ax2.plot(zs, phi)\n",
    "ax.set_xlabel(r'$z\\,\\mathrm{[nm]}$')\n",
    "ax.set_ylabel(r'$\\phi\\,[V]$')\n",
    "ax2.set_ylabel(r'$\\phi\\,[k_\\mathrm{B}T/e]$')\n",
    "ax2.axhline(-5, ls='--', color='k')\n",
    "ax.axhline(-5 / (const.elementary_charge / (const.Boltzmann * TEMPERATURE)))\n",
    "ax2.axhline(0, ls='--', color='k')\n",
    "ax.axhline(0 / (const.elementary_charge / (const.Boltzmann * TEMPERATURE)))\n",
    "ax.set_xlim(0, 10*DEBYE_LENGTH)\n",
    "plt.show()"
   ]
  },
  {
   "cell_type": "code",
   "execution_count": null,
   "metadata": {},
   "outputs": [],
   "source": [
    "measured_potential_difference = -(phi[-1]+phi[0]),\n",
    "print('applied voltage', POTENTIAL_DIFF, 'measured voltage', measured_potential_difference,\n",
    "      'deviation:', measured_potential_difference/POTENTIAL_DIFF)"
   ]
  },
  {
   "cell_type": "markdown",
   "metadata": {},
   "source": [
    "## 4. Differential capacitance\n",
    "\n",
    "With the above knowledge, we can now easily assess the \n",
    "differential capacitance of the system, i.e. play the applied voltage difference\n",
    "and determine the corresponding surface charge density."
   ]
  },
  {
   "cell_type": "code",
   "execution_count": null,
   "metadata": {},
   "outputs": [],
   "source": [
    "sigma_vs_phi = []\n",
    "for potential_diff in tqdm(np.linspace(.5,14,10)):\n",
    "\n",
    "    system.electrostatics.solver = setup_electrostatic_solver(potential_diff)\n",
    "\n",
    "    N_EQUIL = 8\n",
    "    N_SAMPLES = 8\n",
    "    times=[]\n",
    "    e_total=[]\n",
    "    sigmas = []\n",
    "    for tm in range(N_EQUIL):\n",
    "        system.integrator.run(STEPS_PER_SAMPLE)\n",
    "        times.append( system.time)\n",
    "        energy = system.analysis.energy()\n",
    "        e_total.append( energy['total'])   \n",
    "\n",
    "    for tm in tqdm(range(N_SAMPLES)):\n",
    "\n",
    "        zs, density_accumulator_cation, density_accumulator_anion = setup_densityprofile_accumulators(bin_width = DEBYE_LENGTH/10.)\n",
    "\n",
    "        system.auto_update_accumulators.clear()\n",
    "        system.auto_update_accumulators.add(density_accumulator_cation)\n",
    "        system.auto_update_accumulators.add(density_accumulator_anion)\n",
    "\n",
    "        system.integrator.run(STEPS_PER_SAMPLE)\n",
    "        times.append( system.time)\n",
    "        energy = system.analysis.energy()\n",
    "        e_total.append( energy['total'])  \n",
    "\n",
    "        cation_profile_mean = density_accumulator_cation.mean()[0, 0, :]\n",
    "        anion_profile_mean = density_accumulator_anion.mean()[0, 0, :]\n",
    "\n",
    "        sigmas.append(np.sum((cation_profile_mean-anion_profile_mean)[:int(len(zs)/2.)]) * (zs[1]-zs[0]))\n",
    "\n",
    "    sigma_vs_phi.append([POTENTIAL_DIFF, np.mean(sigmas), sem(sigmas)]) "
   ]
  },
  {
   "cell_type": "code",
   "execution_count": null,
   "metadata": {},
   "outputs": [],
   "source": [
    "f, ax = plt.subplots(figsize=(10, 6))\n",
    "x = np.linspace(0,7.5)\n",
    "sigma_vs_phi = np.array(sigma_vs_phi)\n",
    "phi_SI = sigma_vs_phi[:,0] / (const.elementary_charge / (const.Boltzmann * TEMPERATURE))\n",
    "plt.errorbar(-sigma_vs_phi[:,1]*const.elementary_charge/const.nano**2, phi_SI, xerr=sigma_vs_phi[:,2]*const.elementary_charge/const.nano**2, fmt='o',label='Sim')\n",
    "plt.plot(graham_sigma(x)*const.elementary_charge/const.nano**2,\n",
    "        x / (const.elementary_charge / (const.Boltzmann * TEMPERATURE)), label='Graham')\n",
    "x = np.linspace(0,0.3)\n",
    "plt.plot(EPSILON_R*const.epsilon_0*x/2/(DEBYE_LENGTH*const.nano),x, label='linear PB', ls='--')\n",
    "plt.xlabel(r'$\\sigma\\,\\mathrm{[C/m^2]}$')\n",
    "plt.ylabel(r'$\\Psi_0\\,\\mathrm{[V]}$')\n",
    "plt.legend()\n",
    "plt.show()"
   ]
  },
  {
   "cell_type": "markdown",
   "metadata": {},
   "source": [
    "## References\n",
    "\n",
    "<a id='[1]'></a>[1] \n"
   ]
  }
 ],
 "metadata": {
  "kernelspec": {
   "display_name": "Python 3",
   "language": "python",
   "name": "python3"
  },
  "language_info": {
   "codemirror_mode": {
    "name": "ipython",
    "version": 3
   },
   "file_extension": ".py",
   "mimetype": "text/x-python",
   "name": "python",
   "nbconvert_exporter": "python",
   "pygments_lexer": "ipython3",
   "version": "3.11.3"
  },
  "orig_nbformat": 4
 },
 "nbformat": 4,
 "nbformat_minor": 2
}
