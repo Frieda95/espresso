{
 "cells": [
  {
   "cell_type": "markdown",
   "metadata": {},
   "source": [
    "# Basic simulation of electrodes in ESPResSo part I:\n",
    "# Ion-pair in a narrow metallic slit-like confinement using ICC $\\star$"
   ]
  },
  {
   "cell_type": "markdown",
   "metadata": {},
   "source": [
    "## Prerequisites\n",
    "\n",
    "To work with this tutorial, you should be familiar with the following topics:\n",
    "\n",
    "-  Setting up and running simulations in ESPResSo - creating particles,\n",
    "   incorporating interactions.\n",
    "   If you are unfamiliar with this, you can go through the respective tutorial\n",
    "   in the `lennard_jones` folder.\n",
    "-  Basic knowledge of classical electrostatics:\n",
    "   Dipoles, surface and image charges\n",
    "-  Reduced units, as described in the **ESPResSo** [user guide](https://espressomd.github.io/doc/introduction.html#on-units)"
   ]
  },
  {
   "cell_type": "markdown",
   "metadata": {},
   "source": [
    "## Introduction\n",
    "\n",
    "This tutorial introduces some basic concepts for simulating charges close to an\n",
    "electrode using **ESPResSo**.\n",
    "In this first part, we focus on the interaction of a single ion pair confined in\n",
    "a narrow metallic slit pore using the ICC $\\star$-algorithm\n",
    "<a href='#[1]'>[1]</a> for the computation of the surface polarization.\n",
    "Here, we verify the strong deviation from a Coulomb-like interaction:\n",
    "In metallic confinement, the ion pair interaction energy is screened\n",
    "exponentially due to the presence of induced charges on the slit walls.\n",
    "<a href='#[1]'>[2]</a>  \n",
    "\n",
    "<font color='red'>Ionic-liquid-based nanoporous supercapacitors are promising for energy storage "
   ]
  },
  {
   "cell_type": "markdown",
   "metadata": {},
   "source": [
    "## Theoretical Background \n",
    "\n",
    "The normal component of electric field across a surface dividing two dielectric\n",
    "media yields a discontinuity, which can be expressed in terms of a finite\n",
    "surface charge density \n",
    "$(\\epsilon_1\\vec{E}_1 - \\epsilon_2\\vec{E}_2).\\hat{n}=-\\sigma(\\vec{r})$.\n",
    "This expression describes the jump in the electric field across the material\n",
    "interface going from a dielectric medium $\\epsilon_1$ to another one,\n",
    "$\\epsilon_2$.\n",
    "\n",
    "While in the case of non-polarizable materials ($\\epsilon_1 = \\epsilon_2 = 1$),\n",
    "this jump is only related to surface charges and dielectric contrast and the\n",
    "potential is continuous across the interface, for polarizable materials also the\n",
    "polarization field $\\vec{P}$ will give a contribution. \n",
    "In order to solve the problem in presence of a jump of the dielectric constant\n",
    "across an interface, one must know the electric fields on both sides. \n",
    "\n",
    "Another approach is to replace this two domain problem by an equivalent one\n",
    "without the explicit presence of the dielectric jump.\n",
    "This is achieved by introducing an additional fictitious charge i.e. an induced\n",
    "charge density $\\sigma_{ind}$ on the surface. \n",
    "With this well known \"method of image charges\", it is sufficient to know the\n",
    "electric field on one side of the interface. **ESPResSo** provides \"Induced Charge Calculation with fast Coulomb Solvers\" (ICC  $\\star$) algorithm <a href='#[1]'>[1]</a> which employs a  numerical scheme for solving the boundary integrals and the induced charge.   \n",
    "\n",
    "*Note*: Apart from ICC $\\star$, **ESPResSo** also has \"Electrostatic layer correction with image charges\" (ELC-IC) method <a href='#[1]'>[3]</a>, for planar 2D+h partially periodic systems with dielectric interfaces. Tutorial on *Basic simulation of electrodes in ESPResSo part II* addresses this in detail.   "
   ]
  },
  {
   "cell_type": "markdown",
   "metadata": {},
   "source": [
    "## 2D+h periodic systems, dielectric interfaces and Induced Charge Computation with ICC $\\star$\n",
    "\n",
    "Partially periodic ionic systems with dielectric interfaces are very often\n",
    "encountered in the study of energy materials or bio-macromolecular and membrane\n",
    "studies. \n",
    "These systems usually exhibit a confinement along one ($z$) direction, where the confining boundary or interface imposes a dielectric discontinuity, while the other $x$-$y$ directions are periodic and exhibit bulk-like properties. \n",
    "- With ICC $\\star$ the goal is to solve the Poisson equation for an inhomogeneous dieletric:\n",
    "$$ \\nabla (\\epsilon \\nabla \\phi)=-4\\pi \\rho$$\n",
    "\n",
    "- Integrating this at the boundary over an infinitesimally wide pillbox will give the induced surface charge as:\n",
    "$$q_{ind} = \\frac{1}{4\\pi} \\oint\\, dA\\, .\\epsilon\\nabla \\phi = \\frac{A}{4\\pi}(\\epsilon_1\\vec{E}_1.\\hat{n}-\\epsilon_2\\vec{E}_2.\\hat{n})$$\n",
    "- Electric field at the closest proximity of the interface $\\vec{E}_{1/2}$ can be written as a sum of electric field contributions from the surface charge $\\sigma$ and the external electric field $\\vec{E}$:\n",
    "$$ \\vec{E}_{1/2} =\\vec{E} + 2\\pi/\\epsilon_1\\sigma\\hat{n}  $$\n",
    "- Eventually, the induced charge can be written in terms of the dielectric differences and the electric field as:\n",
    "$$\\sigma = \\frac{\\epsilon_1}{2\\pi} \\frac{\\epsilon_1-\\epsilon_2}{\\epsilon_1+\\epsilon_2}\\vec{E}.\\hat{n} $$\n",
    "\n",
    "\n",
    "This boundary integral formulation is implemented via a numerical element scheme\n",
    "by discretizing the interface initially with a set of spatially fixed ICC particles.  The initial charges are then iterated\n",
    "over time until they correctly represent the influence of the dielectric\n",
    "discontinuity.\n"
   ]
  },
  {
   "cell_type": "markdown",
   "metadata": {},
   "source": [
    "##  1. System setup \n"
   ]
  },
  {
   "cell_type": "markdown",
   "metadata": {},
   "source": [
    "First we import all ESPResSo features and external modules"
   ]
  },
  {
   "cell_type": "code",
   "execution_count": 1,
   "metadata": {},
   "outputs": [],
   "source": [
    "import espressomd\n",
    "import numpy as np\n",
    "import espressomd.electrostatics\n",
    "import espressomd.electrostatic_extensions\n",
    "from espressomd.interactions import *\n",
    "\n",
    "espressomd.assert_features(['ELECTROSTATICS'])\n",
    "\n",
    "import matplotlib.pyplot as plt\n",
    "from scipy.special import *\n",
    "from tqdm import tqdm"
   ]
  },
  {
   "cell_type": "markdown",
   "metadata": {},
   "source": [
    "We define system dimensions and some physical parameters related to length, time\n",
    "and energy scales of our system.\n",
    "All physical parameters are defined in reduced units of length ($\\sigma=1$;\n",
    "Particle size), mass ($m=1$; Particle mass), time ($t=0.01 \\tau$) and\n",
    "elementary charge ($e=1$).\n",
    "\n",
    "Another important length scale is the Bjerrum Length, which is the length at\n",
    "which the electrostatic energy between two elementary charges is comparable to\n",
    "the thermal energy $k_\\mathrm{B}T$.\n",
    "It is defined as $l_\\mathrm{B}=\\frac{1}{4\\pi\\epsilon_0\\epsilon_rk_BT}$. \n",
    "In our case if we choose the ion size ($\\sigma$) in simulations equivalent to a\n",
    "typical experimental value for mono-atomar salt, 0.3 nm in real units, then the\n",
    "Bjerrum length of water at room temperature, $\\ell_\\mathrm{B}=0.71 \\,\\mathrm{nm}$ is\n",
    "$\\ell_\\mathrm{B}\\sim 2$ in simulations units."
   ]
  },
  {
   "cell_type": "markdown",
   "metadata": {},
   "source": [
    "#### <font color='red'> Comment  on the choice of ELC GAP ???"
   ]
  },
  {
   "cell_type": "code",
   "execution_count": 2,
   "metadata": {},
   "outputs": [
    {
     "name": "stdout",
     "output_type": "stream",
     "text": [
      "Cation placed at position: [25.  50.   2.5]\n",
      "Anion placed at position: [75.  50.   2.5]\n"
     ]
    }
   ],
   "source": [
    "#***************************************************\n",
    "#            System Setup\n",
    "#***************************************************\n",
    "\n",
    "# Box dimensions\n",
    "# To construct a narrow slit Lz << (Lx , Ly)\n",
    "box_l_x = 100.\n",
    "box_l_y = 100.\n",
    "box_l_z = 5.\n",
    "\n",
    "# ICC* with ELC: 2D electrostatics\n",
    "ELC_GAP = 3*box_l_z\n",
    "\n",
    "system = espressomd.System(box_l=[box_l_x, box_l_y, box_l_z+ELC_GAP])\n",
    "\n",
    "# System Time\n",
    "system.time_step = 0.01\n",
    "system.cell_system.skin = 0.4\n",
    "\n",
    "# Elementary charge \n",
    "q = np.array([1.0])  \n",
    "\n",
    "# Interaction Parameters for P3M with ELC\n",
    "\n",
    "BJERRUM_LENGTH = 2.0        # Electrostatic prefactor passed to P3M ; prefactor=lB KBT/e2                \n",
    "ACCURACY = 1e-7             # P3M force accuracy      \n",
    "CHECK_ACCURACY = 1e-5       # maximim pairwise error in ELC\n",
    "\n",
    "#Lennard-Jones  Parameters\n",
    "\n",
    "LJ_SIGMA = 1.0\n",
    "LJ_EPSILON = 1.0                \n",
    "\n",
    "#Particle parameters\n",
    "\n",
    "types = {\"Cation\": 0, \"Anion\": 1  ,\"Electrodes\": 2}\n",
    "charges = {\"Cation\": q[0], \"Anion\": -q[0]  }\n",
    "\n",
    "p1=system.part.add(pos=[box_l_x/4.0, box_l_y/2.0, box_l_z/2.0], q=charges[\"Cation\"])\n",
    "print(f\"Cation placed at position: {p1.pos}\")\n",
    "p2=system.part.add(pos=[3.0*box_l_x/4.0, box_l_y/2.0, box_l_z/2.0], q=charges[\"Anion\"])\n",
    "print(f\"Anion placed at position: {p2.pos}\")\n"
   ]
  },
  {
   "cell_type": "markdown",
   "metadata": {
    "solution2": "hidden",
    "solution2_first": true
   },
   "source": [
    "### Exercise:\n",
    "Set up electrostatics interactions between the ion pairs using P3M and ICC $\\star$.  \n",
    "#### Hints:\n",
    "- Firstly instantiate a P3M object (using [*espressomd.electrostatics.P3M(...)*](https://espressomd.github.io/doc/espressomd.html#espressomd.electrostatics.P3M)) as the 3D Coulomb solver for the system.\n",
    "- Since, we are working on a 2D+h partially periodic system, we use ELC in combination with P3M. For that instantiate ELC (using [*espressomd.electrostatics.ELC(...)*](https://espressomd.github.io/doc/espressomd.html#espressomd.electrostatics.ELC)) with p3m as the actor which calls necessary initialization routines.  \n",
    "- Now to account for the 2D+h system with dielectric interface, add ICC in extension to  already added ELC-P3M actor. For that first create an ICC object using [*espressomd.electrostatic_extensions.ICC(...)*](https://espressomd.github.io/doc/espressomd.html#espressomd.electrostatic_extensions.ICC). \n",
    "- Setting up the ICC object requires specifying a fixed number of ICC particles and their initial charges. Since, the ICC particles are setup as normal ESPResSo particles, they should be manually added at the interfaces using [*system.part.add(..)*](https://espressomd.github.io/doc/espressomd.html?#module-espressomd.particle_data). \n",
    "*Note* - Refer to section [(**Dielectric interfaces with the ICC\n",
    " algorithm**)](https://espressomd.github.io/doc/electrostatics.html#dielectric-interfaces-with-the-icc-star-algorithm) in the **ESPResSo** documentation for basic ICC setup.\n"
   ]
  },
  {
   "cell_type": "code",
   "execution_count": 3,
   "metadata": {
    "solution2": "hidden",
    "solution2_first": true
   },
   "outputs": [],
   "source": [
    "p3m = espressomd.electrostatics.P3M(\n",
    "            prefactor=BJERRUM_LENGTH,\n",
    "            accuracy=ACCURACY,\n",
    "            check_neutrality = False,\n",
    "            mesh = [100,100,150],\n",
    "            cao = 5\n",
    "        )\n",
    "\n",
    "elc = espressomd.electrostatics.ELC(actor=p3m, gap_size=ELC_GAP, maxPWerror=CHECK_ACCURACY)\n",
    "\n",
    "# Set the ICC line density and calculate the number of\n",
    "# ICC particles according to the box size\n",
    "nicc = 100  # linear density\n",
    "nicc_per_electrode = nicc**2  # surface density\n",
    "nicc_tot = 2 * nicc_per_electrode\n",
    "iccArea = box_l_x * box_l_y / nicc_per_electrode\n",
    "lx = box_l_x / nicc\n",
    "ly = box_l_y / nicc\n",
    "\n",
    "# Lists to collect required parameters\n",
    "iccNormals = []\n",
    "iccAreas = []\n",
    "iccSigmas = []\n",
    "iccEpsilons = []\n",
    "\n",
    "# Add the fixed ICC particles:\n",
    "\n",
    "# Bottom electrode (normal [0, 0, 1])\n",
    "for xi in range(nicc):\n",
    "    for yi in range(nicc):\n",
    "        system.part.add(pos=[lx * xi, ly * yi, 0.], q=-0.0001,\n",
    "                        type=types[\"Electrodes\"], fix=[True, True, True])\n",
    "iccNormals.extend([0, 0, 1] * nicc_per_electrode)\n",
    "\n",
    "# Top electrode (normal [0, 0, -1])\n",
    "for xi in range(nicc):\n",
    "    for yi in range(nicc):\n",
    "        system.part.add(pos=[lx * xi, ly * yi, box_l_z], q=0.0001,\n",
    "                        type=types[\"Electrodes\"], fix=[True, True, True])\n",
    "iccNormals.extend([0, 0, -1] * nicc_per_electrode)\n",
    "\n",
    "# Common area, sigma and metallic epsilon\n",
    "iccAreas.extend([iccArea] * nicc_tot)\n",
    "iccSigmas.extend([0] * nicc_tot)\n",
    "iccEpsilons.extend([100000] * nicc_tot)\n",
    "\n",
    "iccNormals = np.array(iccNormals, dtype=float).reshape(nicc_tot, 3)\n",
    "\n",
    "icc = espressomd.electrostatic_extensions.ICC(\n",
    "    first_id=2,\n",
    "    n_icc=nicc_tot,\n",
    "    convergence=1e-3,\n",
    "    relaxation=0.95,\n",
    "    ext_field=[0, 0, 0],\n",
    "    max_iterations=1000,\n",
    "    eps_out=1.0,\n",
    "    normals=iccNormals,\n",
    "    areas=np.array(iccAreas, dtype=float),\n",
    "    sigmas=np.array(iccSigmas, dtype=float),\n",
    "    epsilons=np.array(iccEpsilons, dtype=float)\n",
    "    )\n",
    "\n",
    "system.electrostatics.solver = elc\n",
    "system.electrostatics.extension = icc"
   ]
  },
  {
   "cell_type": "markdown",
   "metadata": {},
   "source": [
    "## 2. Calculation of the forces"
   ]
  },
  {
   "cell_type": "markdown",
   "metadata": {},
   "source": [
    "<font color='red'> Why R depends on box_l_z instead of x , also why range(2-nicc)  ??"
   ]
  },
  {
   "cell_type": "code",
   "execution_count": 4,
   "metadata": {},
   "outputs": [
    {
     "name": "stderr",
     "output_type": "stream",
     "text": [
      "  0%|                                                                                                                                                  | 0/10 [00:00<?, ?it/s]WARNING: Statistics of tuning samples is very bad.\n"
     ]
    },
    {
     "name": "stdout",
     "output_type": "stream",
     "text": [
      "CoulombP3M tune parameters: Accuracy goal = 1.00000e-07 prefactor = 2.00000e+00\n",
      "System: box_l = 1.00000e+02 # charged part = 20002 Sum[q_i^2] = 2.00020e+00\n",
      "mesh cao r_cut_iL    alpha_L     err       rs_err    ks_err    time [ms]\n",
      "fixed mesh (100, 100, 150)\n",
      "fixed cao 5\n",
      "100  5   5.32500e-02 4.84390e+01 9.769e-08 7.071e-08 6.740e-08 885.61  \n",
      "\n",
      "resulting parameters: mesh: (100, 100, 150), cao: 5, r_cut_iL: 5.3250e-02,\n",
      "                      alpha_L: 4.8439e+01, accuracy: 9.7687e-08, time: 885.61\n"
     ]
    },
    {
     "name": "stderr",
     "output_type": "stream",
     "text": [
      "100%|█████████████████████████████████████████████████████████████████████████████████████████████████████████████████████████████████████████| 10/10 [01:53<00:00, 11.36s/it]\n"
     ]
    }
   ],
   "source": [
    "R = np.logspace(0,box_l_z/4.,10) \n",
    "elc_forces_axial = np.empty((len(R), 2))\n",
    "\n",
    "for i, x in enumerate(tqdm(R)):\n",
    "    p1.pos = [0, box_l_y/2.0, box_l_z/2.0]\n",
    "    p2.pos = [x, box_l_y/2.0, box_l_z/2.0]\n",
    "\n",
    "    system.integrator.run(0)\n",
    "    elc_forces_axial[i, 0] = p1.f[0]\n",
    "    elc_forces_axial[i, 1] = p2.f[0]\n",
    "    \n",
    "    # reset ICC charges to ensure charge neutrality check passes\n",
    "    system.part.by_ids(range(2,2+nicc_per_electrode)).q = np.array([-0.0001]*nicc_per_electrode)\n",
    "    system.part.by_ids(range(2+nicc_per_electrode,2+2*nicc_per_electrode)).q = np.array([0.0001]*nicc_per_electrode)    "
   ]
  },
  {
   "cell_type": "markdown",
   "metadata": {},
   "source": [
    "## 3. Analysis and Interpretation of the data\n",
    "**Comparison with mean field solution in an infinitely elongated narrow slit:** The electrostatic energy between two point charges in a slit-shaped charged nanopore formed by two infinitely extended, perfectly metallic walls <a href='#[1]'>[2]</a> is given as  \n",
    "<font color='red'>????"
   ]
  },
  {
   "cell_type": "code",
   "execution_count": 5,
   "metadata": {},
   "outputs": [],
   "source": [
    "\n",
    "def analytic_force_centered(R,w):\n",
    "    x = R/w\n",
    "    prefactor = BJERRUM_LENGTH / w**2\n",
    "\n",
    "    def summand(x, n):\n",
    "        return (-1)**n * x/(x**2+n**2)**(3./2)\n",
    "    \n",
    "    def do_sum(x):\n",
    "        max = int(1e3)\n",
    "        sum = 0\n",
    "        for n in range(-max+1,max+1):\n",
    "            sum += summand(x,n)\n",
    "        return sum\n",
    "\n",
    "    F = do_sum(x) * prefactor\n",
    "    return F\n",
    "\n",
    "def coulomb_force(x):\n",
    "    prefactor = BJERRUM_LENGTH\n",
    "    E = prefactor / x**2\n",
    "    return E"
   ]
  },
  {
   "cell_type": "code",
   "execution_count": 6,
   "metadata": {},
   "outputs": [
    {
     "data": {
      "text/plain": [
       "<matplotlib.legend.Legend at 0x14b7543ca5f0>"
      ]
     },
     "execution_count": 6,
     "metadata": {},
     "output_type": "execute_result"
    },
    {
     "data": {
      "image/png": "[encoded data removed]",
      "text/plain": [
       "<Figure size 720x432 with 1 Axes>"
      ]
     },
     "metadata": {
      "needs_background": "light"
     },
     "output_type": "display_data"
    }
   ],
   "source": [
    "fig = plt.figure(figsize=(10, 6))\n",
    "\n",
    "plt.plot(R/BJERRUM_LENGTH, -elc_forces_axial[:,1],  color='red' , label=\"sim (p2)\",  marker='o', ls='')\n",
    "plt.plot(R/BJERRUM_LENGTH, elc_forces_axial[:,0],  color='k' , label=\"sim (p1)\",  marker='x', ls='')\n",
    "\n",
    "x = np.logspace(-.25,1.4,100)\n",
    "\n",
    "plt.plot(x/BJERRUM_LENGTH, analytic_force_centered(x,box_l_z),  color='b' , label=\"analytic\",  marker='')\n",
    "plt.plot(x/BJERRUM_LENGTH, coulomb_force(x), color='green', ls='--', label='Coulomb')\n",
    "\n",
    "plt.xlabel(r'$d/\\ell_\\mathrm{B}$')\n",
    "plt.ylabel(r'$F$')\n",
    "plt.loglog()\n",
    "plt.legend()"
   ]
  },
  {
   "cell_type": "markdown",
   "metadata": {},
   "source": [
    "## References\n",
    "\n",
    "<a id='[1]'></a>[1] Tyagi, S.; Süzen, M.; Sega, M.; Barbosa, M.; Kantorovich, S. S.; Holm, C. An Iterative, Fast, Linear-Scaling Method for Computing Induced Charges on Arbitrary Dielectric Boundaries. J. Chem. Phys. 2010, 132 (15), 154112. https://doi.org/10.1063/1.3376011.\n",
    " \n",
    "<a id='[2]'></a>[2] Kondrat, S.; Feng, G.; Bresme, F.; Urbakh, M.; Kornyshev, A. A. Theory and Simulations of Ionic Liquids in Nanoconfinement. Chem. Rev. 2023, 123 (10), 6668–6715. https://doi.org/10.1021/acs.chemrev.2c00728.\n",
    "\n",
    "<a id='[3]'></a>[3] Tyagi, S.; Arnold, A.; Holm, C. Electrostatic Layer Correction with Image Charges: A Linear Scaling Method to Treat Slab 2D+h Systems with Dielectric Interfaces. J. Chem. Phys. 2008, 129 (20), 204102. https://doi.org/10.1063/1.3021064.\n"
   ]
  }
 ],
 "metadata": {
  "kernelspec": {
   "display_name": "Python 3 (ipykernel)",
   "language": "python",
   "name": "python3"
  },
  "language_info": {
   "codemirror_mode": {
    "name": "ipython",
    "version": 3
   },
   "file_extension": ".py",
   "mimetype": "text/x-python",
   "name": "python",
   "nbconvert_exporter": "python",
   "pygments_lexer": "ipython3",
   "version": "3.10.12"
  }
 },
 "nbformat": 4,
 "nbformat_minor": 2
}
