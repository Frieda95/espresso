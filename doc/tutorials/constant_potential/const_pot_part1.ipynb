{
 "cells": [
  {
   "cell_type": "markdown",
   "metadata": {},
   "source": [
    "# Basic simulation of electrodes in ESPResSo part I:\n",
    "# Ion-pair in a narrow metallic slit-like confinement using ICC $\\star$"
   ]
  },
  {
   "cell_type": "markdown",
   "metadata": {},
   "source": [
    "In this tutorial we are going to investigate the interaction between ions in\n",
    "metallic slit pores using **ESPResSo**. \n",
    "\n",
    "To work with this tutorial, you should be familiar with the following topics:\n",
    "\n",
    "1. Setting up and running simulations in ESPResSo - creating particles,\n",
    "   incorporating interactions.\n",
    "   If you are unfamiliar with this, you can go through the respective tutorial\n",
    "   in the `lennard_jones` folder.\n",
    "2. Basic knowledge of classical electrostatics:\n",
    "   Dipoles, surface and image charges\n",
    "3. Reduced units, as described in the ESPResSo user guide\n",
    "   https://espressomd.github.io/doc/introduction.html#on-units"
   ]
  },
  {
   "cell_type": "markdown",
   "metadata": {},
   "source": [
    "## Introduction\n",
    "\n",
    "This tutorial introduces some basic concepts for simulating charges close to an\n",
    "electrode using **ESPResSo**.\n",
    "In this first part, we focus on the interaction of a single ion pair confined in\n",
    "a narrow metallic slit pore using the ICC $\\star$-algorithm\n",
    "<a href='#[1]'>[1]</a> for the computation of the surface polarization.\n",
    "Here, we verify the strong deviation from a Coulomb-like interaction:\n",
    "In metallic confinement, the ion pair interaction energy is screened\n",
    "exponentially due to the presence of induced charges on the slit walls.\n",
    "<a href='#[1]'>[2]</a>  \n",
    "\n",
    "Ionic-liquid-based nanoporous supercapacitors"
   ]
  },
  {
   "cell_type": "markdown",
   "metadata": {},
   "source": [
    "## Theoretical Background \n",
    "\n",
    "The normal component of electric field across a surface diving two dielectric\n",
    "media yields a discontinuity, which can be expressed in terms of a finite\n",
    "surface charge density \n",
    "$(\\epsilon_1\\vec{E}_1 - \\epsilon_2\\vec{E}_2).\\hat{n}=-\\sigma(\\vec{r})$.\n",
    "This expression describes the jump in the electric field across the material\n",
    "interface going from a dielectric medium $\\epsilon_1$ to another one,\n",
    "$\\epsilon_2$.\n",
    "\n",
    "While in the case of non-polarizable materials ($\\epsilon_1 = \\epsilon_2 = 1$),\n",
    "this jump is only related to surface charges and dielectric contrast and the\n",
    "potential is continuous across the interface, for polarizable materials also the\n",
    "polarization field $\\vec{P}$ will give a contribution. \n",
    "In order to solve the problem in presence of a jump of the dielectric constant\n",
    "across an interface, one must know the electric fields on both sides. \n",
    "\n",
    "Another approach is to replace this two domain problem by an equivalent one\n",
    "without the explicit presence of the dielectric jump.\n",
    "This is achieved by introducing an additional fictitious charge i.e. an induced\n",
    "charge density $\\sigma_{ind}$ on the surface. \n",
    "With this well known \"method of image charges\", it is sufficient to know the\n",
    "electric field on one side of the interface. \n",
    "This method of an induced charge density at dielectric 2D interface is employed\n",
    "in ELC-IC to account for the dielectric contrast. "
   ]
  },
  {
   "cell_type": "markdown",
   "metadata": {},
   "source": [
    "Partially periodic ionic systems with dielectric interfaces are very often\n",
    "encountered in the study of energy materials or bio-macromolecular and membrane\n",
    "studies. \n",
    "These systems usually exhibit a confinement along one ($z$) direction, where the confining boundary or interface imposes a dielectric discontinuity, while the other $x$-$y$ directions are periodic and exhibit bulk-like properties.\n",
    "\n",
    "The \"electrostatic layer correction” (ELC) method proposed by Tyagi et al.\n",
    "<a href='#[3]'>[3]</a> accounts for the periodic contributions in the constrained\n",
    "direction by evaluating a layer correction term growing linear with the particle\n",
    "number $N$, which then can be used with any, efficiently scaling 3-$D$ Coulomb\n",
    "solvers. \n",
    "We here use P3M (particle-particle, particle-mesh), which scales with \n",
    "$\\mathcal{O}(N \\log N)$.\n",
    "Furthermore, ELC can be extended to implement the dielectric interfaces by using\n",
    "the method of image charges and this is the \"Electrostatic layer correction with\n",
    "image charges\" (ELC-IC) approach used in this tutorial.\n",
    "  \n",
    "*Note*: Apart from ELC-IC, **ESPResSo** also provides ICC method where we account\n",
    "for a set of spatially fixed ICC particles, whose initial charges are iterated\n",
    "over time until they correctly represent the influence of the dielectric\n",
    "discontinuity."
   ]
  },
  {
   "cell_type": "markdown",
   "metadata": {},
   "source": [
    "## 2D+h periodic systems, dielectric interfaces and the Induced Charge Computation\n",
    "\n",
    "Here explain the Espresso methods and how they are invoked!"
   ]
  },
  {
   "cell_type": "markdown",
   "metadata": {},
   "source": [
    "##  1. System setup \n"
   ]
  },
  {
   "cell_type": "markdown",
   "metadata": {},
   "source": [
    "First we import all ESPResSo features and external modules"
   ]
  },
  {
   "cell_type": "code",
   "execution_count": null,
   "metadata": {},
   "outputs": [],
   "source": [
    "import espressomd\n",
    "import numpy as np\n",
    "import espressomd.electrostatics\n",
    "import espressomd.electrostatic_extensions\n",
    "from espressomd.interactions import *\n",
    "import espressomd.visualization\n",
    "import espressomd.observables\n",
    "import espressomd.accumulators\n",
    "import matplotlib.pyplot as plt\n",
    "from scipy.special import *\n",
    "from tqdm import tqdm"
   ]
  },
  {
   "cell_type": "markdown",
   "metadata": {},
   "source": [
    "We define system dimensions and some physical parameters related to length, time\n",
    "and energy scales of our system.\n",
    "All physical parameters are defined in reduced units of length ($\\sigma=1$;\n",
    "Particle size), mass ($m=1$; Particle mass), time ($t=0.01 \\tau$) and\n",
    "elementary charge ($e=1$).\n",
    "\n",
    "Another important length scale is the Bjerrum Length, which is the length at\n",
    "which the electrostatic energy between two elementary charges is comparable to\n",
    "the thermal energy $k_\\mathrm{B}T$.\n",
    "It is defined as $l_\\mathrm{B}=\\frac{1}{4\\pi\\epsilon_0\\epsilon_rk_BT}$. \n",
    "In our case if we choose the ion size ($\\sigma$) in simulations equivalent to a\n",
    "typical experimental value for mono-atomar salt, 0.3 nm in real units, then the\n",
    "Bjerrum length of water at room temperature, $\\ell_\\mathrm{B}=0.71 \\,\\mathrm{nm}$ is\n",
    "$\\ell_\\mathrm{B}\\sim 2$ in simulations units."
   ]
  },
  {
   "cell_type": "code",
   "execution_count": null,
   "metadata": {},
   "outputs": [],
   "source": [
    "#***************************************************\n",
    "#            System Setup\n",
    "#***************************************************\n",
    "\n",
    "# Box dimensions\n",
    "# To construct a narrow slit Lz << (Lx , Ly)\n",
    "box_l_x = 100.\n",
    "box_l_y = 100.\n",
    "box_l_z = 5.\n",
    "\n",
    "# ICC* with ELC: 2D electrostatics\n",
    "ELC_GAP = 3*box_l_z\n",
    "\n",
    "system = espressomd.System(box_l=[box_l_x, box_l_y, box_l_z+ELC_GAP])\n",
    "\n",
    "# System Time\n",
    "system.time_step = 0.01\n",
    "system.cell_system.skin = 0.4\n",
    "\n",
    "# Elementary charge \n",
    "q = np.array([1.0])  \n",
    "\n",
    "# Interaction Parameters: P3M with ELCIC\n",
    "\n",
    "BJERRUM_LENGTH = 2.0        # Electrostatic prefactor passed to P3M ; prefactor=lB KBT/e2                \n",
    "ACCURACY = 1e-7             # P3M force accuracy      \n",
    "CHECK_ACCURACY = 1e-5       # maximim pairwise error in ELC\n",
    "\n",
    "#Lennard-Jones  Parameters\n",
    "\n",
    "LJ_SIGMA = 1.0\n",
    "LJ_EPSILON = 1.0                \n",
    "\n",
    "#Particle parameters\n",
    "\n",
    "types = {\"Cation\": 0, \"Anion\": 1  ,\"Electrodes\": 2}\n",
    "charges = {\"Cation\": q[0], \"Anion\": -q[0]  }\n",
    "\n",
    "p1=system.part.add(pos=[box_l_x/4.0, box_l_y/2.0, box_l_z/2.0], q=charges[\"Cation\"])\n",
    "print(f\"Cation placed at position: {p1.pos}\")\n",
    "p2=system.part.add(pos=[3.0*box_l_x/4.0, box_l_y/2.0, box_l_z/2.0], q=charges[\"Anion\"])\n",
    "print(f\"Anion placed at position: {p2.pos}\")\n"
   ]
  },
  {
   "cell_type": "markdown",
   "metadata": {},
   "source": [
    "Now set up the electrostatics calculation using P3M, ELC and ICC $\\star$."
   ]
  },
  {
   "cell_type": "code",
   "execution_count": null,
   "metadata": {},
   "outputs": [],
   "source": [
    "p3m = espressomd.electrostatics.P3M(\n",
    "            prefactor=BJERRUM_LENGTH,\n",
    "            accuracy=ACCURACY,\n",
    "            check_neutrality = False,\n",
    "            mesh = [100,100,150],\n",
    "            cao = 5\n",
    "        )\n",
    "\n",
    "elc = espressomd.electrostatics.ELC(actor=p3m, gap_size=ELC_GAP, maxPWerror=CHECK_ACCURACY)\n",
    "\n",
    "# Set the ICC line density and calculate the number of\n",
    "# ICC particles according to the box size\n",
    "nicc = 100  # linear density\n",
    "nicc_per_electrode = nicc**2  # surface density\n",
    "nicc_tot = 2 * nicc_per_electrode\n",
    "iccArea = box_l_x * box_l_y / nicc_per_electrode\n",
    "lx = box_l_x / nicc\n",
    "ly = box_l_y / nicc\n",
    "\n",
    "# Lists to collect required parameters\n",
    "iccNormals = []\n",
    "iccAreas = []\n",
    "iccSigmas = []\n",
    "iccEpsilons = []\n",
    "\n",
    "# Add the fixed ICC particles:\n",
    "\n",
    "# Bottom electrode (normal [0, 0, 1])\n",
    "for xi in range(nicc):\n",
    "    for yi in range(nicc):\n",
    "        system.part.add(pos=[lx * xi, ly * yi, 0.], q=-0.0001,\n",
    "                        type=types[\"Electrodes\"], fix=[True, True, True])\n",
    "iccNormals.extend([0, 0, 1] * nicc_per_electrode)\n",
    "\n",
    "# Top electrode (normal [0, 0, -1])\n",
    "for xi in range(nicc):\n",
    "    for yi in range(nicc):\n",
    "        system.part.add(pos=[lx * xi, ly * yi, box_l_z], q=0.0001,\n",
    "                        type=types[\"Electrodes\"], fix=[True, True, True])\n",
    "iccNormals.extend([0, 0, -1] * nicc_per_electrode)\n",
    "\n",
    "# Common area, sigma and metallic epsilon\n",
    "iccAreas.extend([iccArea] * nicc_tot)\n",
    "iccSigmas.extend([0] * nicc_tot)\n",
    "iccEpsilons.extend([100000] * nicc_tot)\n",
    "\n",
    "iccNormals = np.array(iccNormals, dtype=float).reshape(nicc_tot, 3)\n",
    "\n",
    "icc = espressomd.electrostatic_extensions.ICC(\n",
    "    first_id=2,\n",
    "    n_icc=nicc_tot,\n",
    "    convergence=1e-3,\n",
    "    relaxation=0.95,\n",
    "    ext_field=[0, 0, 0],\n",
    "    max_iterations=1000,\n",
    "    eps_out=1.0,\n",
    "    normals=iccNormals,\n",
    "    areas=np.array(iccAreas, dtype=float),\n",
    "    sigmas=np.array(iccSigmas, dtype=float),\n",
    "    epsilons=np.array(iccEpsilons, dtype=float)\n",
    "    )\n",
    "\n",
    "system.electrostatics.solver = elc\n",
    "system.electrostatics.extension = icc"
   ]
  },
  {
   "cell_type": "markdown",
   "metadata": {},
   "source": [
    "## 2. Calculation of the forces"
   ]
  },
  {
   "cell_type": "code",
   "execution_count": null,
   "metadata": {},
   "outputs": [],
   "source": [
    "R = np.logspace(0,box_l_z/4.,10)\n",
    "elc_forces_axial = np.empty((len(R), 2))\n",
    "\n",
    "for i, x in enumerate(tqdm(R)):\n",
    "    p1.pos = [0, box_l_y/2.0, box_l_z/2.0]\n",
    "    p2.pos = [x, box_l_y/2.0, box_l_z/2.0]\n",
    "\n",
    "    system.integrator.run(0)\n",
    "    elc_forces_axial[i, 0] = p1.f[0]\n",
    "    elc_forces_axial[i, 1] = p2.f[0]\n",
    "    \n",
    "    # reset ICC charges to ensure charge neutrality check passes\n",
    "    system.part.by_ids(range(2,2+nicc_per_electrode)).q = np.array([-0.0001]*nicc_per_electrode)\n",
    "    system.part.by_ids(range(2+nicc_per_electrode,2+2*nicc_per_electrode)).q = np.array([0.0001]*nicc_per_electrode)    "
   ]
  },
  {
   "cell_type": "markdown",
   "metadata": {},
   "source": [
    "## 3. Analysis and Interpretation of the data"
   ]
  },
  {
   "cell_type": "code",
   "execution_count": null,
   "metadata": {},
   "outputs": [],
   "source": [
    "\n",
    "def analytic_force_centered(R,w):\n",
    "    x = R/w\n",
    "    prefactor = BJERRUM_LENGTH / w**2\n",
    "\n",
    "    def summand(x, n):\n",
    "        return (-1)**n * x/(x**2+n**2)**(3./2)\n",
    "    \n",
    "    def do_sum(x):\n",
    "        max = int(1e3)\n",
    "        sum = 0\n",
    "        for n in range(-max+1,max+1):\n",
    "            sum += summand(x,n)\n",
    "        return sum\n",
    "\n",
    "    F = do_sum(x) * prefactor\n",
    "    return F\n",
    "\n",
    "def coulomb_force(x):\n",
    "    prefactor = BJERRUM_LENGTH\n",
    "    E = prefactor / x**2\n",
    "    return E"
   ]
  },
  {
   "cell_type": "code",
   "execution_count": null,
   "metadata": {},
   "outputs": [],
   "source": [
    "fig = plt.figure(figsize=(10, 6))\n",
    "\n",
    "plt.plot(R/BJERRUM_LENGTH, -elc_forces_axial[:,1],  color='red' , label=\"sim (p2)\",  marker='o', ls='')\n",
    "plt.plot(R/BJERRUM_LENGTH, elc_forces_axial[:,0],  color='k' , label=\"sim (p1)\",  marker='x', ls='')\n",
    "\n",
    "x = np.logspace(-.25,1.4,100)\n",
    "\n",
    "plt.plot(x/BJERRUM_LENGTH, analytic_force_centered(x,box_l_z),  color='b' , label=\"analytic\",  marker='')\n",
    "plt.plot(x/BJERRUM_LENGTH, coulomb_force(x), color='green', ls='--', label='Coulomb')\n",
    "\n",
    "plt.xlabel(r'$d/\\ell_\\mathrm{B}$')\n",
    "plt.ylabel(r'$F$')\n",
    "plt.loglog()\n",
    "plt.legend()"
   ]
  },
  {
   "cell_type": "markdown",
   "metadata": {},
   "source": [
    "## References\n",
    "\n",
    "<a id='[1]'></a>[1] Tyagi, S.; Süzen, M.; Sega, M.; Barbosa, M.; Kantorovich, S. S.; Holm, C. An Iterative, Fast, Linear-Scaling Method for Computing Induced Charges on Arbitrary Dielectric Boundaries. J. Chem. Phys. 2010, 132 (15), 154112. https://doi.org/10.1063/1.3376011.\n",
    " \n",
    "<a id='[2]'></a>[2] Kondrat, S.; Feng, G.; Bresme, F.; Urbakh, M.; Kornyshev, A. A. Theory and Simulations of Ionic Liquids in Nanoconfinement. Chem. Rev. 2023, 123 (10), 6668–6715. https://doi.org/10.1021/acs.chemrev.2c00728.\n",
    "\n",
    "<a id='[3]'></a>[3] Tyagi, S.; Arnold, A.; Holm, C. Electrostatic Layer Correction with Image Charges: A Linear Scaling Method to Treat Slab 2D+h Systems with Dielectric Interfaces. J. Chem. Phys. 2008, 129 (20), 204102. https://doi.org/10.1063/1.3021064.\n"
   ]
  }
 ],
 "metadata": {
  "kernelspec": {
   "display_name": "Python 3",
   "language": "python",
   "name": "python3"
  },
  "language_info": {
   "codemirror_mode": {
    "name": "ipython",
    "version": 3
   },
   "file_extension": ".py",
   "mimetype": "text/x-python",
   "name": "python",
   "nbconvert_exporter": "python",
   "pygments_lexer": "ipython3",
   "version": "3.11.3"
  },
  "orig_nbformat": 4
 },
 "nbformat": 4,
 "nbformat_minor": 2
}
